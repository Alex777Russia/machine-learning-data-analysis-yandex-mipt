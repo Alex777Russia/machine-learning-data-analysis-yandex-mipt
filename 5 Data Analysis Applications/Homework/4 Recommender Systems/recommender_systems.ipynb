{
 "cells": [
  {
   "cell_type": "code",
   "execution_count": 1,
   "metadata": {},
   "outputs": [],
   "source": [
    "import pandas as pd\n",
    "import numpy as np\n",
    "from collections import Counter"
   ]
  },
  {
   "cell_type": "code",
   "execution_count": 2,
   "metadata": {},
   "outputs": [],
   "source": [
    "def print_to_file(value, name):\n",
    "    print(name, value)\n",
    "    with open(name, 'w') as file:\n",
    "        file.write(str(value))"
   ]
  },
  {
   "cell_type": "markdown",
   "metadata": {},
   "source": [
    "# Рекомендательные системы\n",
    "\n",
    "***Описание задачи***\n",
    "\n",
    "Небольшой интернет-магазин попросил вас добавить ранжирование товаров в блок \"Смотрели ранее\" - в нем теперь надо показывать не последние просмотренные пользователем товары, а те товары из просмотренных, которые он наиболее вероятно купит. Качество вашего решения будет оцениваться по количеству покупок в сравнении с прошлым решением в ходе А/В теста, т.к. по доходу от продаж статзначимость будет достигаться дольше из-за разброса цен. Таким образом, ничего заранее не зная про корреляцию оффлайновых и онлайновых метрик качества, в начале проекта вы можете лишь постараться оптимизировать **recall@k** и **precision@k.**\n",
    "\n",
    "Это задание посвящено построению простых бейзлайнов для этой задачи: ранжирование просмотренных товаров по частоте просмотров и по частоте покупок. Эти бейзлайны, с одной стороны, могут помочь вам грубо оценить возможный эффект от ранжирования товаров в блоке - например, чтобы вписать какие-то числа в коммерческое предложение заказчику, а с другой стороны, могут оказаться самым хорошим вариантом, если данных очень мало (недостаточно для обучения даже простых моделей).\n",
    "\n",
    "***Входные данные***\n",
    "\n",
    "Вам дается две выборки с пользовательскими сессиями - **id-**шниками просмотренных и **id**-шниками купленных товаров. Одна выборка будет использоваться для обучения (оценки популярностей товаров), а другая - для теста.\n",
    "\n",
    "В файлах записаны сессии по одной в каждой строке. Формат сессии: **id** просмотренных товаров через **,** затем идёт **;** после чего следуют **id** купленных товаров (если такие имеются), разделённые запятой. Например, **1,2,3,4;** или **1,2,3,4;5,6.**\n",
    "\n",
    "Гарантируется, что среди **id** купленных товаров все различные."
   ]
  },
  {
   "cell_type": "code",
   "execution_count": 3,
   "metadata": {},
   "outputs": [],
   "source": [
    "def str_to_ar(string):\n",
    "    return list(map(int, string.split(','))) if len(string) != 0 else None\n",
    "\n",
    "def get_improved_df(filepath):\n",
    "    df = pd.read_csv(filepath, sep = ';', names = ['viewed','buying'],\n",
    "                    converters = {0:str_to_ar, 1:str_to_ar})\n",
    "    print(df.head(10))\n",
    "    return df"
   ]
  },
  {
   "cell_type": "code",
   "execution_count": 4,
   "metadata": {},
   "outputs": [
    {
     "name": "stdout",
     "output_type": "stream",
     "text": [
      "                                              viewed        buying\n",
      "0                                 [0, 1, 2, 3, 4, 5]          None\n",
      "1                      [9, 10, 11, 9, 11, 12, 9, 11]          None\n",
      "2                           [16, 17, 18, 19, 20, 21]          None\n",
      "3                               [24, 25, 26, 27, 24]          None\n",
      "4   [34, 35, 36, 34, 37, 35, 36, 37, 38, 39, 38, 39]          None\n",
      "5                                               [42]          None\n",
      "6                                       [47, 48, 49]          None\n",
      "7  [59, 60, 61, 62, 60, 63, 64, 65, 66, 61, 67, 6...  [67, 60, 63]\n",
      "8                                   [71, 72, 73, 74]          None\n",
      "9                                       [76, 77, 78]          None\n"
     ]
    }
   ],
   "source": [
    "df_train = get_improved_df('data/coursera_sessions_train.txt')"
   ]
  },
  {
   "cell_type": "code",
   "execution_count": 5,
   "metadata": {},
   "outputs": [
    {
     "name": "stdout",
     "output_type": "stream",
     "text": [
      "                                         viewed    buying\n",
      "0                                     [6, 7, 8]      None\n",
      "1                                  [13, 14, 15]      None\n",
      "2                                      [22, 23]      None\n",
      "3                      [28, 29, 30, 31, 32, 33]      None\n",
      "4                                      [40, 41]      None\n",
      "5              [43, 44, 43, 45, 43, 45, 43, 46]      None\n",
      "6  [50, 51, 47, 52, 49, 53, 54, 55, 56, 57, 58]      None\n",
      "7      [63, 68, 69, 70, 66, 61, 59, 61, 66, 68]  [66, 63]\n",
      "8                                          [75]      None\n",
      "9                          [79, 80, 81, 82, 83]      None\n"
     ]
    }
   ],
   "source": [
    "df_test = get_improved_df('data/coursera_sessions_test.txt')"
   ]
  },
  {
   "cell_type": "markdown",
   "metadata": {},
   "source": [
    "***Важно:***\n",
    "\n",
    "-   Сессии, в которых пользователь ничего не купил, исключаем из оценки качества.\n",
    "-   Если товар не встречался в обучающей выборке, его популярность равна 0.\n",
    "-   Рекомендуем разные товары. И их число должно быть не больше, чем количество различных просмотренных пользователем товаров.\n",
    "-   Рекомендаций всегда не больше, чем минимум из двух чисел: количество просмотренных пользователем товаров и **k** в **recall@k** / **precision@k**.\n",
    "\n",
    "***Задание***\n",
    "\n",
    "1.  На обучении постройте частоты появления **id** в просмотренных и в купленных (**id** может несколько раз появляться в просмотренных, все появления надо учитывать)"
   ]
  },
  {
   "cell_type": "code",
   "execution_count": 6,
   "metadata": {},
   "outputs": [],
   "source": [
    "def get_counter(series):\n",
    "    lst = series.values\n",
    "    all_values = []\n",
    "    for sublist in lst:\n",
    "        for item in sublist:\n",
    "            all_values.append(item)\n",
    "    cnt = Counter(all_values)\n",
    "    return cnt"
   ]
  },
  {
   "cell_type": "code",
   "execution_count": 7,
   "metadata": {},
   "outputs": [],
   "source": [
    "def get_num(series):\n",
    "    # Формируем список всех встречающихся ИД в наборе\n",
    "    lst = series.values\n",
    "    all_values = []\n",
    "    for sublist in lst:\n",
    "        for item in sublist:\n",
    "            all_values.append(item)\n",
    "    # Считаем сколько раз встретился каждый ИД в наборе\n",
    "    freq = np.bincount(all_values)\n",
    "    ii = np.nonzero(freq)[0]\n",
    "    # Возвращаем список - (ИД - количество раз сколько он встретился в списке)\n",
    "    dic = {}\n",
    "    for id_, freq_ in zip(ii,freq[ii]):\n",
    "        dic[id_] = freq_\n",
    "    return dic"
   ]
  },
  {
   "cell_type": "code",
   "execution_count": 8,
   "metadata": {},
   "outputs": [],
   "source": [
    "cnt_train_viewed = get_counter(df_train.viewed)\n",
    "cnt_train_buying = get_counter(df_train.buying.dropna())"
   ]
  },
  {
   "cell_type": "code",
   "execution_count": 9,
   "metadata": {},
   "outputs": [],
   "source": [
    "num_train_viewed = get_num(df_train.viewed)\n",
    "num_train_buying = get_num(df_train.buying.dropna())"
   ]
  },
  {
   "cell_type": "markdown",
   "metadata": {},
   "source": [
    "2.Реализуйте два алгоритма рекомендаций:\n",
    "\n",
    "* сортировка просмотренных **id** по популярности (частота появления в просмотренных),\n",
    "* сортировка просмотренных **id** по покупаемости (частота появления в покупках)."
   ]
  },
  {
   "cell_type": "code",
   "execution_count": 10,
   "metadata": {},
   "outputs": [],
   "source": [
    "def get_recommend_ids(viewed, cnt, k):\n",
    "    viewed = list(set(viewed))\n",
    "    lenght = min(k, len(viewed))\n",
    "    pos = range(len(viewed))\n",
    "    freq = list(cnt[id_] if id_ in cnt.keys() else 0 for id_ in viewed)\n",
    "    d = {'id': viewed, 'pos': pos, 'freq': freq}\n",
    "    df = pd.DataFrame(data = d).sort_values(['freq', 'pos'], ascending=[False, True])   \n",
    "    return set(df['id'][:lenght].tolist())"
   ]
  },
  {
   "cell_type": "markdown",
   "metadata": {},
   "source": [
    "3. Для данных алгоритмов выпишите через пробел **AverageRecall@1**, **AveragePrecision@1**, **AverageRecall@5**, **AveragePrecision@5** на обучающей и тестовых выборках, округляя до 2 знака после запятой. Это будут ваши ответы в этом задании. Посмотрите, как они соотносятся друг с другом. Где качество получилось выше? Значимо ли это различие? Обратите внимание на различие качества на обучающей и тестовой выборке в случае рекомендаций по частотам покупки.\n",
    "\n",
    "Если частота одинаковая, то сортировать нужно по возрастанию момента просмотра (чем раньше появился в просмотренных, тем больше приоритет)"
   ]
  },
  {
   "cell_type": "code",
   "execution_count": 11,
   "metadata": {},
   "outputs": [],
   "source": [
    "def metric(viewed, buying, cnt, algo, k):\n",
    "    recoms = get_recommend_ids(viewed, cnt, k)\n",
    "    summ = 0\n",
    "    for i in buying:\n",
    "        if i in recoms:\n",
    "            summ+=1\n",
    "    if algo == 'precision':\n",
    "        return summ / k\n",
    "    elif algo == 'recall':\n",
    "        return summ / len(buying)\n",
    "    else:\n",
    "        return None"
   ]
  },
  {
   "cell_type": "code",
   "execution_count": 12,
   "metadata": {},
   "outputs": [],
   "source": [
    "def get_average_metric(df, cnt, algo, k):\n",
    "    metric_vals = []\n",
    "    for session in df.values:\n",
    "        metric_vals.append(metric(session[0], session[1], cnt, algo, k))\n",
    "    return sum(metric_vals) / len(metric_vals)"
   ]
  },
  {
   "cell_type": "code",
   "execution_count": 13,
   "metadata": {},
   "outputs": [],
   "source": [
    "def get_metrics(df, cnt):\n",
    "    return (get_average_metric(df, cnt, 'recall', 1), \n",
    "           get_average_metric(df, cnt, 'precision', 1),\n",
    "           get_average_metric(df, cnt, 'recall', 5),\n",
    "           get_average_metric(df, cnt, 'precision', 5))"
   ]
  },
  {
   "cell_type": "code",
   "execution_count": 14,
   "metadata": {},
   "outputs": [],
   "source": [
    "def convert_for_answer(ar):\n",
    "    return ' '.join(list(str(round(i, 2)) for i in ar))    "
   ]
  },
  {
   "cell_type": "code",
   "execution_count": 15,
   "metadata": {},
   "outputs": [],
   "source": [
    "df_train = df_train.dropna()\n",
    "df_test = df_test.dropna()"
   ]
  },
  {
   "cell_type": "code",
   "execution_count": 16,
   "metadata": {},
   "outputs": [
    {
     "name": "stdout",
     "output_type": "stream",
     "text": [
      "1-cnt.txt 0.44 0.51 0.82 0.21\n",
      "2-cnt.txt 0.42 0.48 0.8 0.2\n",
      "3-cnt.txt 0.68 0.79 0.93 0.25\n",
      "4-cnt.txt 0.41 0.47 0.79 0.2\n"
     ]
    }
   ],
   "source": [
    "print_to_file(convert_for_answer(get_metrics(df_train, cnt_train_viewed)), '1-cnt.txt')\n",
    "print_to_file(convert_for_answer(get_metrics(df_test, cnt_train_viewed)), '2-cnt.txt')\n",
    "print_to_file(convert_for_answer(get_metrics(df_train, cnt_train_buying)), '3-cnt.txt')\n",
    "print_to_file(convert_for_answer(get_metrics(df_test, cnt_train_buying)), '4-cnt.txt')"
   ]
  },
  {
   "cell_type": "code",
   "execution_count": 17,
   "metadata": {},
   "outputs": [
    {
     "name": "stdout",
     "output_type": "stream",
     "text": [
      "1-num.txt 0.44 0.51 0.82 0.21\n",
      "2-num.txt 0.42 0.48 0.8 0.2\n",
      "3-num.txt 0.68 0.79 0.93 0.25\n",
      "4-num.txt 0.41 0.47 0.79 0.2\n"
     ]
    }
   ],
   "source": [
    "print_to_file(convert_for_answer(get_metrics(df_train, num_train_viewed)), '1-num.txt')\n",
    "print_to_file(convert_for_answer(get_metrics(df_test, num_train_viewed)), '2-num.txt')\n",
    "print_to_file(convert_for_answer(get_metrics(df_train, num_train_buying)), '3-num.txt')\n",
    "print_to_file(convert_for_answer(get_metrics(df_test, num_train_buying)), '4-num.txt')"
   ]
  },
  {
   "cell_type": "markdown",
   "metadata": {},
   "source": [
    "Грейдер принимает только первые три ответа - четвёртый некорректный. В четвёртом должны быть такие метрики:\n",
    "* 0.46 0.53 0.82 0.21 "
   ]
  }
 ],
 "metadata": {
  "kernelspec": {
   "display_name": "Python 3",
   "language": "python",
   "name": "python3"
  },
  "language_info": {
   "codemirror_mode": {
    "name": "ipython",
    "version": 3
   },
   "file_extension": ".py",
   "mimetype": "text/x-python",
   "name": "python",
   "nbconvert_exporter": "python",
   "pygments_lexer": "ipython3",
   "version": "3.7.3"
  },
  "toc": {
   "base_numbering": 1,
   "nav_menu": {},
   "number_sections": true,
   "sideBar": true,
   "skip_h1_title": false,
   "title_cell": "Table of Contents",
   "title_sidebar": "Contents",
   "toc_cell": false,
   "toc_position": {},
   "toc_section_display": true,
   "toc_window_display": false
  }
 },
 "nbformat": 4,
 "nbformat_minor": 2
}
