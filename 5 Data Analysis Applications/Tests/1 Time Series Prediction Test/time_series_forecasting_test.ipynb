{
 "cells": [
  {
   "cell_type": "code",
   "execution_count": 1,
   "metadata": {},
   "outputs": [],
   "source": [
    "import pandas as pd\n",
    "import matplotlib as plt\n",
    "import statsmodels.api as sm"
   ]
  },
  {
   "cell_type": "markdown",
   "metadata": {},
   "source": [
    "# Прогнозирование временных рядов\n",
    "## Компоненты временных рядов\n",
    "Какие компоненты обычно выделяют во временных рядах?\n",
    "\n",
    "__Ответ:__ сезонность, ошибка, тренд, цикл.\n",
    "\n",
    "## Особенности временных рядов\n",
    "\n",
    "Какие особенности характерны для временных рядов?\n",
    "\n",
    "__Ответ:__ Временные ряды, как правило, автокоррелированы, то есть, их значения в каждый момент времени в каком-то смысле похожи на значения в недавнем прошлом.\n",
    "\n",
    "## Слагаемые ARMA\n",
    "Из каких слагаемых состоит модель ARMA(p,q)?\n",
    "\n",
    "__Ответ:__ \n",
    "- Константа $\\alpha$ (TRUE)\n",
    "- Ошибка $\\varepsilon_t$\n",
    "- $p$ предыдущих значений ряда с постоянными коэффициентами \n",
    "\n",
    "## МНК и SARIMA\n",
    "\n",
    "Какие из параметров модели SARIMA настраиваются с помощью метода наименьших квадратов?\n",
    "\n",
    "- Значения коэффициентов $\\phi$ и $\\theta$ перед предыдущими значениями ряда и предыдущими значениями ошибки\n",
    "- Значение константы $\\alpha$ \n",
    "\n",
    "## Начальное приближение гиперпараметров ARIMA\n",
    "Какой эвристический метод позволяет выбрать начальное приближение для гиперпараметров $p$ и $P$ в сезонной модели ARIMA?\n",
    "\n",
    "__Ответ:__ Анализ частичной автокорреляционной функции\n",
    "\n",
    "\n",
    "## График\n",
    "В приложенном файле — данные по ежемесячному уровню производства молока в фунтах на одну корову.\n",
    "\n",
    "Загрузите ряд, создайте новый ряд значений среднего дневного уровня производства молока в фунтах на одну корову, поделив на число дней в месяце (вычисляется с помощью функции monthrange из пакета calendar). Постройте график полученного ряда; какой из приведённых ниже графиков у вас получился?"
   ]
  },
  {
   "cell_type": "code",
   "execution_count": 2,
   "metadata": {},
   "outputs": [
    {
     "data": {
      "text/html": [
       "<div>\n",
       "<style scoped>\n",
       "    .dataframe tbody tr th:only-of-type {\n",
       "        vertical-align: middle;\n",
       "    }\n",
       "\n",
       "    .dataframe tbody tr th {\n",
       "        vertical-align: top;\n",
       "    }\n",
       "\n",
       "    .dataframe thead th {\n",
       "        text-align: right;\n",
       "    }\n",
       "</style>\n",
       "<table border=\"1\" class=\"dataframe\">\n",
       "  <thead>\n",
       "    <tr style=\"text-align: right;\">\n",
       "      <th></th>\n",
       "      <th>milk</th>\n",
       "    </tr>\n",
       "    <tr>\n",
       "      <th>month</th>\n",
       "      <th></th>\n",
       "    </tr>\n",
       "  </thead>\n",
       "  <tbody>\n",
       "    <tr>\n",
       "      <th>1962-01-01</th>\n",
       "      <td>589</td>\n",
       "    </tr>\n",
       "    <tr>\n",
       "      <th>1962-02-01</th>\n",
       "      <td>561</td>\n",
       "    </tr>\n",
       "    <tr>\n",
       "      <th>1962-03-01</th>\n",
       "      <td>640</td>\n",
       "    </tr>\n",
       "    <tr>\n",
       "      <th>1962-04-01</th>\n",
       "      <td>656</td>\n",
       "    </tr>\n",
       "    <tr>\n",
       "      <th>1962-05-01</th>\n",
       "      <td>727</td>\n",
       "    </tr>\n",
       "  </tbody>\n",
       "</table>\n",
       "</div>"
      ],
      "text/plain": [
       "            milk\n",
       "month           \n",
       "1962-01-01   589\n",
       "1962-02-01   561\n",
       "1962-03-01   640\n",
       "1962-04-01   656\n",
       "1962-05-01   727"
      ]
     },
     "execution_count": 2,
     "metadata": {},
     "output_type": "execute_result"
    }
   ],
   "source": [
    "milk = pd.read_csv('monthly-milk-production.csv',\n",
    "                   sep = ';', index_col=['month'], \n",
    "                   parse_dates=['month'], dayfirst=True)\n",
    "milk.head()"
   ]
  },
  {
   "cell_type": "code",
   "execution_count": 3,
   "metadata": {},
   "outputs": [
    {
     "data": {
      "text/html": [
       "<div>\n",
       "<style scoped>\n",
       "    .dataframe tbody tr th:only-of-type {\n",
       "        vertical-align: middle;\n",
       "    }\n",
       "\n",
       "    .dataframe tbody tr th {\n",
       "        vertical-align: top;\n",
       "    }\n",
       "\n",
       "    .dataframe thead th {\n",
       "        text-align: right;\n",
       "    }\n",
       "</style>\n",
       "<table border=\"1\" class=\"dataframe\">\n",
       "  <thead>\n",
       "    <tr style=\"text-align: right;\">\n",
       "      <th></th>\n",
       "      <th>milk</th>\n",
       "      <th>daily</th>\n",
       "    </tr>\n",
       "    <tr>\n",
       "      <th>month</th>\n",
       "      <th></th>\n",
       "      <th></th>\n",
       "    </tr>\n",
       "  </thead>\n",
       "  <tbody>\n",
       "    <tr>\n",
       "      <th>1962-01-01</th>\n",
       "      <td>589</td>\n",
       "      <td>19.000000</td>\n",
       "    </tr>\n",
       "    <tr>\n",
       "      <th>1962-02-01</th>\n",
       "      <td>561</td>\n",
       "      <td>20.035714</td>\n",
       "    </tr>\n",
       "    <tr>\n",
       "      <th>1962-03-01</th>\n",
       "      <td>640</td>\n",
       "      <td>20.645161</td>\n",
       "    </tr>\n",
       "    <tr>\n",
       "      <th>1962-04-01</th>\n",
       "      <td>656</td>\n",
       "      <td>21.866667</td>\n",
       "    </tr>\n",
       "    <tr>\n",
       "      <th>1962-05-01</th>\n",
       "      <td>727</td>\n",
       "      <td>23.451613</td>\n",
       "    </tr>\n",
       "  </tbody>\n",
       "</table>\n",
       "</div>"
      ],
      "text/plain": [
       "            milk      daily\n",
       "month                      \n",
       "1962-01-01   589  19.000000\n",
       "1962-02-01   561  20.035714\n",
       "1962-03-01   640  20.645161\n",
       "1962-04-01   656  21.866667\n",
       "1962-05-01   727  23.451613"
      ]
     },
     "execution_count": 3,
     "metadata": {},
     "output_type": "execute_result"
    }
   ],
   "source": [
    "milk['daily'] = milk.milk / milk.index.days_in_month\n",
    "milk.head()"
   ]
  },
  {
   "cell_type": "code",
   "execution_count": 4,
   "metadata": {},
   "outputs": [
    {
     "data": {
      "text/plain": [
       "<matplotlib.axes._subplots.AxesSubplot at 0x256f7866e48>"
      ]
     },
     "execution_count": 4,
     "metadata": {},
     "output_type": "execute_result"
    },
    {
     "data": {
      "image/png": "[encoded data removed]",
      "text/plain": [
       "<Figure size 432x288 with 1 Axes>"
      ]
     },
     "metadata": {
      "needs_background": "light"
     },
     "output_type": "display_data"
    }
   ],
   "source": [
    "milk.plot(y = 'daily')"
   ]
  },
  {
   "cell_type": "markdown",
   "metadata": {},
   "source": [
    "## Стационарность\n",
    "Для ряда со средним дневным количеством молока на корову из предыдущего вопроса давайте с помощью критерия Дики-Фуллера подберём порядок дифференцирования, при котором ряд становится стационарным.\n",
    "\n",
    "Дифференцирование можно делать так:\n",
    "```\n",
    "milk.daily_diff1 = milk.daily - milk.daily.shift(1)\n",
    "```\n",
    "Чтобы сделать сезонное дифференцирование, нужно изменить значение параметра у функции shift:\n",
    "```\n",
    "milk.daily_diff12 = milk.daily - milk.daily.shift(12)\n",
    "```\n",
    "При дифференцировании длина ряда сокращается, поэтому в части строк в новой колонке значения будут не определены (NaN). Подавая полученные столбцы на вход критерию Дики-Фуллера, отрезайте неопределённые значения, иначе вы получите неопределённый достигаемый уровень значимости. "
   ]
  },
  {
   "cell_type": "code",
   "execution_count": 5,
   "metadata": {},
   "outputs": [],
   "source": [
    "def isStationarity(series):\n",
    "    p_val = sm.tsa.stattools.adfuller(series)[1]\n",
    "    print(p_val)\n",
    "    return p_val < 0.05\n",
    "\n",
    "def addShift(series, shift):\n",
    "    shift_series = series - series.shift(shift)\n",
    "    shift_series = shift_series.dropna()\n",
    "    return shift_series"
   ]
  },
  {
   "cell_type": "code",
   "execution_count": 6,
   "metadata": {},
   "outputs": [
    {
     "name": "stdout",
     "output_type": "stream",
     "text": [
      "0.06430054654174842\n",
      "Смещение на 1 месяц даёт стационарность? Ответ:  False\n"
     ]
    }
   ],
   "source": [
    "daily_diff1 = addShift(milk.daily, 1)\n",
    "print('Смещение на 1 месяц даёт стационарность? Ответ: ',isStationarity(daily_diff1))"
   ]
  },
  {
   "cell_type": "code",
   "execution_count": 7,
   "metadata": {},
   "outputs": [
    {
     "name": "stdout",
     "output_type": "stream",
     "text": [
      "0.22127672658830344\n",
      "Смещение на 12 месяцев даёт стационарность? Ответ:  False\n"
     ]
    }
   ],
   "source": [
    "daily_diff12 = addShift(milk.daily, 12)\n",
    "print('Смещение на 12 месяцев даёт стационарность? Ответ: ',isStationarity(daily_diff12))"
   ]
  },
  {
   "cell_type": "code",
   "execution_count": 8,
   "metadata": {},
   "outputs": [
    {
     "name": "stdout",
     "output_type": "stream",
     "text": [
      "2.2808455518036712e-06\n",
      "Смещение на 12 месяцев и потом на 1 даёт стационарность? Ответ:  True\n"
     ]
    }
   ],
   "source": [
    "daily_diff12 = addShift(milk.daily, 12)\n",
    "daily_diff12_1 = addShift(daily_diff12, 1)\n",
    "print('Смещение на 12 месяцев и потом на 1 даёт стационарность? Ответ: ',isStationarity(daily_diff12_1))"
   ]
  },
  {
   "cell_type": "code",
   "execution_count": 9,
   "metadata": {},
   "outputs": [
    {
     "name": "stdout",
     "output_type": "stream",
     "text": [
      "2.2808455518036712e-06\n",
      "Смещение на 1 месяц и потом на 12 месяцев даёт стационарность? Ответ:  True\n"
     ]
    }
   ],
   "source": [
    "daily_diff1 = addShift(milk.daily, 1)\n",
    "daily_diff1_12 = addShift(daily_diff1, 12)\n",
    "print('Смещение на 1 месяц и потом на 12 месяцев даёт стационарность? Ответ: ',isStationarity(daily_diff1_12))"
   ]
  },
  {
   "cell_type": "markdown",
   "metadata": {},
   "source": [
    "## Начальное приближение\n",
    "Для стационарного ряда из предыдущего вопроса (продифференцированного столько раз, сколько вы посчитали нужным) постройте график автокорреляционной функции. Это можно cделать так:\n",
    "```\n",
    "import statsmodels.api as sm\n",
    "sm.graphics.tsa.plot_acf(ряд.values.squeeze(), lags=50)\n",
    "```\n",
    "Исходя из этого графика, какое начальное приближение вы предложили бы для параметра $Q$ в модели SARIMA?"
   ]
  },
  {
   "cell_type": "code",
   "execution_count": 10,
   "metadata": {
    "scrolled": false
   },
   "outputs": [
    {
     "data": {
      "image/png": "[encoded data removed]",
      "text/plain": [
       "<Figure size 432x288 with 1 Axes>"
      ]
     },
     "metadata": {
      "needs_background": "light"
     },
     "output_type": "display_data"
    }
   ],
   "source": [
    "sm.graphics.tsa.plot_acf(daily_diff12_1.values.squeeze(), lags=50);"
   ]
  },
  {
   "cell_type": "markdown",
   "metadata": {},
   "source": [
    "__Ответ:__ 1, ибо в первом сезоне виден значимое значение."
   ]
  },
  {
   "cell_type": "markdown",
   "metadata": {},
   "source": [
    "Для того же ряда, что и в предыдущем вопросе, постройте график частичной автокорреляционной функции. Это можно сделать так:\n",
    "```\n",
    "import statsmodels.api as sm\n",
    "sm.graphics.tsa.plot_pacf(ряд.values.squeeze(), lags=50)\n",
    "```\n",
    "Исходя из этого графика, какое начальное приближение вы предложили бы для параметра $p$ в модели SARIMA?"
   ]
  },
  {
   "cell_type": "code",
   "execution_count": 11,
   "metadata": {},
   "outputs": [
    {
     "data": {
      "image/png": "[encoded data removed]",
      "text/plain": [
       "<Figure size 432x288 with 1 Axes>"
      ]
     },
     "metadata": {
      "needs_background": "light"
     },
     "output_type": "display_data"
    }
   ],
   "source": [
    "sm.graphics.tsa.plot_pacf(daily_diff12_1.values.squeeze(), lags=50);"
   ]
  },
  {
   "cell_type": "markdown",
   "metadata": {},
   "source": [
    "__Ответ:__ 0, так как нет смысла выбирать параметр $p$ больше сезонности, равной 12."
   ]
  }
 ],
 "metadata": {
  "kernelspec": {
   "display_name": "Python 3",
   "language": "python",
   "name": "python3"
  },
  "language_info": {
   "codemirror_mode": {
    "name": "ipython",
    "version": 3
   },
   "file_extension": ".py",
   "mimetype": "text/x-python",
   "name": "python",
   "nbconvert_exporter": "python",
   "pygments_lexer": "ipython3",
   "version": "3.7.3"
  },
  "toc": {
   "base_numbering": 1,
   "nav_menu": {},
   "number_sections": true,
   "sideBar": true,
   "skip_h1_title": false,
   "title_cell": "Table of Contents",
   "title_sidebar": "Contents",
   "toc_cell": false,
   "toc_position": {},
   "toc_section_display": true,
   "toc_window_display": false
  }
 },
 "nbformat": 4,
 "nbformat_minor": 2
}
