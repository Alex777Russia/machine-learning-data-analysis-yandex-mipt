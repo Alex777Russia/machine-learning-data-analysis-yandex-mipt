{
 "cells": [
  {
   "cell_type": "code",
   "execution_count": 1,
   "metadata": {},
   "outputs": [],
   "source": [
    "import pandas as pd\n",
    "import numpy as np\n",
    "import re\n",
    "from itertools import combinations, combinations_with_replacement\n",
    "\n",
    "#vectorizer\n",
    "from sklearn.feature_extraction.text import TfidfVectorizer\n",
    "\n",
    "#gridsearch\n",
    "from sklearn.model_selection import cross_val_score, cross_val_predict, GridSearchCV\n",
    "from sklearn.pipeline import Pipeline\n",
    "from sklearn.base import BaseEstimator\n",
    "from sklearn.metrics import accuracy_score\n",
    "\n",
    "#classifier\n",
    "from sklearn.linear_model import LogisticRegression\n",
    "from sklearn.svm import LinearSVC\n",
    "\n",
    "#words\n",
    "from nltk.corpus import stopwords\n",
    "from stop_words import get_stop_words"
   ]
  },
  {
   "cell_type": "markdown",
   "metadata": {},
   "source": [
    "# Разработка сентимент-анализа под задачу заказчика\n",
    "К вашей компании пришел заказчик, которому нужно решение задачи анализа тональности отзывов на товары. Заказчик хочет, чтобы вы оценили возможное качество работы такого алгоритма на небольшой тестовой выборке. При этом больше никаких данных вам не предоставляется. Требуется, чтобы качество работы вашего алгоритма (по accuracy) было строго больше 85%.\n",
    "\n",
    "Оценка качества в этом задании реализована через контест на Kaggle Inclass:\n",
    "\n",
    "* https://inclass.kaggle.com/c/product-reviews-sentiment-analysis\n",
    "\n",
    "Вам предстоит посмотреть на предоставленные заказчиком отзывы, собрать похожие отзывы в качестве обучающей выборки, и поэкспериментировать с постановкой задачи (разметкой вашей выборки на позитивные и негативные примеры) так, чтобы результат на примерах заказчика был по возможности получше.\n",
    "\n",
    "Обратите внимание, что заказчик предоставил всего 100 примеров в качестве тестовой выборки - ситуация, когда размеченных данных почти нет - вообще очень частая в индустриальном анализе данных. Конечно, эти отзывы можно было бы идеально разметить вручную и получить максимальное качество, но вы сами не заинтересованы в таком подходе, т.к. потом придется и на всех новых примерах демонстрировать заказчику идеальную работу, что, конечно, вряд ли будет по силам алгоритму. В любом случае рано или поздно алгоритм придется разрабатывать, поэтому попытки \"сжульничать\" и не делать никакой модели не одобряются.\n",
    "\n",
    "Для оценки качества в этом соревновании будет использоваться accuracy.\n",
    "\n",
    "## Данные клиента"
   ]
  },
  {
   "cell_type": "code",
   "execution_count": 2,
   "metadata": {},
   "outputs": [
    {
     "output_type": "execute_result",
     "data": {
      "text/plain": "array([['Ужасно слабый аккумулятор, это основной минус этого аппарата, разряжается буквально за пару часов при включенном wifi и на макс подсветке, например если играть или смотреть видео, следовательно использовать можно только если есть постоянная возможность подзарядиться. Качества звука через динамик далеко не на высоте.Наблюдаются незначительные тормоза в некоторых приложениях и вообще в меню. Очень мало встроенной памяти, а приложения устанавливаются именно туда, с этим связанны неудобства - нужно постоянно переносить их на карту памяти.\\nНесколько неудобно что нету отдельной кнопки для фото. Подумываю купить батарею большей емкость мб что нибудь измениться.\\n'],\n       ['ценанадежность-неубиваемостьдолго держит батарею 4 дня стабильно как телефон, 3-4 как плеер если \\nпостоянно долбиться в уши и звонить по паре часо на дню, игры и, конечно,  смс , в месяц около 200 шт набирается.\\n Максимальное время работы 5 дней в щадящем режиме.2 simqwerty рулит -после нее набор смс на обычных сенсорниках и кнопочных -просто издивательствогромкий ,чистый звук (хорошо варьируется как в + так и в -)значение hot кнопок (верхняя панель до основной раскладки цифры/буквы) задается под себямного цветных панелек с пластиковым защитным  экраном,переставляются легко(те родной экран телефона никогда не поцарапается)кнопки не стираютсякак не странно достойные фото, нет не спорю не 25 мегапикселей, но  отснять рассписание или конспекты, зафотать пейзаж за окном автобуса получается вполне пристойносохранение файлов,отснятых фото, переброшенных песен происходит  на карту памяти  и это оч удобно, карточки кушает до 32 Гб !удобный ашевский бонус смс чат с аббанентом\\nт.е.  вы можете видеть всю ветку беседы с конкретным человеком , а не искать в куче входящих смс с нужной информацией.\\nработает чисто без галюнов,падал,шврялся,купался,используется как тел и плеер,в метро поездов не слышно уши юзаю сенхайзер 300 и 500,mp3 звонок чистый без сипов.Экран  не горилла глас , но на солнце сохраняет читаемость, в отличие от большинства  сенсорников , битых пикселей и засветов нет.Самсунговские кверти менее удобные ,пользовалась((( буква \"б\" и \" ь\"  просто убивают(((Нокиевская кверти интуитивно понятна и более дружелюбна к пользователю.Подстройка телефона под себя те вынос на экран нужных приложений, перемена значений у кнопок существенно облегчает жизнь.\\n'],\n       ['подробнее в комментариях\\nК сожалению, факт поломки через месяц использования сильно подпортил впечатление от телефона. Попытался установить языковое обновление - в итоге - экран смерти. Отдал в ремонт - сказали, что полетела материнская плата. \\nПо сути месяц уже лежит в СЦ. Печальный опыт, больше HTC не куплю.\\n']],\n      dtype=object)"
     },
     "metadata": {},
     "execution_count": 2
    }
   ],
   "source": [
    "with open(\"data/test.csv\", encoding = 'utf-8') as f:\n",
    "    raw_text = f.read()\n",
    "df_test = pd.DataFrame(re.findall(r'<review>([\\s\\S]*?)</review>', raw_text),columns = ['text'])\n",
    "df_test.values[:3]"
   ]
  },
  {
   "cell_type": "markdown",
   "metadata": {},
   "source": [
    "## Парсинг дополнительных данных\n",
    "Отзывы посвящены мобильным телефонам. Данных мало, они не размечены. Попробуем собрать отзывы самим через парсинг сайтов отзывов с телефонами - https://www.e-katalog.ru/. При парсинге заодно будем смотреть на оценку в отзыве - на этом сайте за это отвечает смайл в заголовке отзыва:\n",
    "* '/img/svg/review-smile-1.svg','/img/svg/review-smile-2.svg' - грустные смайлы, пользователь не доволен\n",
    "* '/img/svg/review-smile-3.svg','/img/svg/review-smile-4.svg' - веселые смайлы, пользователь доволен\n",
    "\n",
    "Чтобы парсить отзывы было быстрее - подключим многозадачность с помощью multiprocessing. Увы, библиотека не дружит с Jupyter - поэтому запустим parse_phone_reviews.py"
   ]
  },
  {
   "cell_type": "code",
   "execution_count": 3,
   "metadata": {
    "tags": [
     "outputPrepend"
    ]
   },
   "outputs": [
    {
     "output_type": "stream",
     "name": "stdout",
     "text": "Writing parse_phone_reviews.py\n"
    }
   ],
   "source": [
    "%%writefile parse_phone_reviews.py\n",
    "import requests\n",
    "import bs4\n",
    "from multiprocessing import Pool\n",
    "from functools import reduce\n",
    "import pandas as pd\n",
    "import numpy as np\n",
    "\n",
    "def getAllTags(url, tag, attrs):\n",
    "    req = requests.get(url)\n",
    "    parser = bs4.BeautifulSoup(req.text, 'lxml')\n",
    "    return parser.findAll(tag, attrs)\n",
    "    \n",
    "def parse_urls(url):\n",
    "    url_tags = getAllTags(url, 'a', 'model-short-title')\n",
    "    urls = ['https://www.e-katalog.ru/review' + tag['href'][:-4] for tag in url_tags]\n",
    "    return urls\n",
    "\n",
    "def div_to_text(div):\n",
    "    if div is None:\n",
    "        return None\n",
    "    else:\n",
    "        return div.get_text(separator=\"\\n\") + '\\n'\n",
    "\n",
    "def parse_review(parser):\n",
    "    description = div_to_text(parser.find('span', attrs={'itemprop':'description'}))\n",
    "    title = div_to_text(parser.find('div', 'review-title'))\n",
    "    plus = div_to_text(parser.find('div', 'review-plus'))\n",
    "    minus = div_to_text(parser.find('div', 'review-minus'))\n",
    "    result = ''\n",
    "    if description is None:\n",
    "        result = title + plus + minus\n",
    "    else:\n",
    "        result = title + description + plus + minus\n",
    "    return result\n",
    "\n",
    "def parse_sentiment(parser):\n",
    "    tag = parser.find('div', 'review-title')\n",
    "    if tag.find('img')['src'] in ['/img/svg/review-smile-3.svg','/img/svg/review-smile-4.svg']:\n",
    "        return 1\n",
    "    else:\n",
    "        return 0\n",
    "\n",
    "def parse_sentiment_reviews(url):\n",
    "    tags = getAllTags(url, 'td', 'review-td')\n",
    "    reviews_n_classes = []\n",
    "    for tag in tags:\n",
    "        review = parse_review(tag)\n",
    "        class_ = parse_sentiment(tag)\n",
    "        reviews_n_classes.append([review, class_])\n",
    "    return reviews_n_classes\n",
    "\n",
    "def map_n_reduce(function, array, processes=8):\n",
    "    p = Pool(processes)\n",
    "    map_ = p.map(function, array)\n",
    "    return reduce(lambda x,y: x+y, map_)    \n",
    "\n",
    "if __name__ == '__main__':    \n",
    "    main_urls = ['https://www.e-katalog.ru/list/122/'] + ['https://www.e-katalog.ru/list/122/' + str(i) for i in np.arange(1,76 + 1)]\n",
    "    reduce_urls = map_n_reduce(parse_urls, main_urls)\n",
    "    reviews = map_n_reduce(parse_sentiment_reviews, reduce_urls)\n",
    "    pd.DataFrame(reviews, columns=['text','class']).to_csv('data/train.csv', index=False)"
   ]
  },
  {
   "cell_type": "code",
   "execution_count": 4,
   "metadata": {},
   "outputs": [
    {
     "output_type": "execute_result",
     "data": {
      "text/plain": "array([['Вполне хороший смарт, достаточно шустрый  камера хорошая, зарядка быстрая\\nПокупайте на 128 /6 гб!!! камера жрет много памяти!!! 64 не думаю что хватит, покупайте ещё чехол!!! Зад телефона стеклянный - то есть легко разобьется, и да фирменный чехол внутри был и он давит на кнопки выключения и звука, не пожалеете если еще 2-3к сверху скините, покупал за 17 990р - 128/6 белый цвет\\r\\nПользуюсь неделю, все пока что идеально! ;)\\nШустрый - тянет многие игры, я сам не особо играю изредка захожу в Pubg, Clash of clans и др... Играя держит стабильно 57-60 fps - зарядка 5-6 часов игры держит \\r\\nПокупал за 17 990 - 128/6 гб ,  в  М.видио\\r\\nМногие писали про нагрев, я не ощущал ничего подобного, Фризов не было ни разу, батарея держит 1-2 дня (при моем использовании) для простого использования с головы хватит) памяти много и то здорово) Камера 64мп снимает фотографии 15-22мб это не мало) снимает ни хорошо и не плохо - где-то золотая середина, макро съемка прям супер)) телефон заряжается - 1 час +-20-30 минут\\nИх нет\\n',\n        1],\n       ['отличная модель, очень понравилось\\nТел очень даже хорош, перешёл с редми 5+. Миуи 11 прилетела по воздуху и начала радовать просто супер. В Ютубе много видов по настройке прошивки, рекомендую ознакомится. Тротлинкга не заметил даже в тяжёлых играх. Быстрейшая зарядка телефона. Но не стоит ей заряжать старенький смартфон...умер контроллер питания\\nПрисутствие нагрева в тяжёлых играх на ультра настройках. Снижение настроек до средних снимает нагрузку и температура падает до комфортных.\\n',\n        1],\n       ['Рекомендую к покупке!\\nОтличная модель!\\n4 камеры+фронталка.Пробовал 9 lite-хуже.На удивление,медиатек-хорош. Не так сильно нагревается,а в чехле-вообще комфорт.\\nВроде ничего.\\n',\n        1]], dtype=object)"
     },
     "metadata": {},
     "execution_count": 4
    }
   ],
   "source": [
    "df_train = pd.read_csv('data/train.csv')\n",
    "df_train.values[:3]"
   ]
  },
  {
   "cell_type": "code",
   "execution_count": 5,
   "metadata": {},
   "outputs": [
    {
     "output_type": "stream",
     "name": "stdout",
     "text": "Количество отзывов в обучающей выборке 4146\nПозитивных отзывов больше. Cоотношение классов 0.7496382054992764\n"
    }
   ],
   "source": [
    "review_pos_count = df_train['class'].sum()\n",
    "review_count = len(df_train)\n",
    "print('Количество отзывов в обучающей выборке', review_count)\n",
    "print('Позитивных отзывов больше. Cоотношение классов', review_pos_count/review_count)"
   ]
  },
  {
   "cell_type": "markdown",
   "metadata": {},
   "source": [
    "### Обучение на распарсенных данных"
   ]
  },
  {
   "cell_type": "code",
   "execution_count": 6,
   "metadata": {},
   "outputs": [],
   "source": [
    "comb = np.arange(1,11)\n",
    "ngram_range = list(combinations_with_replacement(comb, 2))[:10]\n",
    "param_grid = {\n",
    "    'vect': [TfidfVectorizer()],\n",
    "    'vect__ngram_range': ngram_range,\n",
    "    'vect__stop_words': ['russian', stopwords.words('russian'), get_stop_words('ru'), None],\n",
    "    'clf':[LinearSVC(),LogisticRegression()],    \n",
    "    'clf__C': np.arange(0.2, 2.1 ,0.2),\n",
    "    'clf__class_weight': ['balanced', None]\n",
    "}"
   ]
  },
  {
   "cell_type": "code",
   "execution_count": 7,
   "metadata": {},
   "outputs": [
    {
     "output_type": "stream",
     "name": "stdout",
     "text": "Fitting 5 folds for each of 1600 candidates, totalling 8000 fits\n[Parallel(n_jobs=-1)]: Using backend LokyBackend with 8 concurrent workers.\n[Parallel(n_jobs=-1)]: Done  34 tasks      | elapsed:    6.4s\n[Parallel(n_jobs=-1)]: Done 184 tasks      | elapsed:  2.2min\n[Parallel(n_jobs=-1)]: Done 434 tasks      | elapsed:  5.1min\n[Parallel(n_jobs=-1)]: Done 784 tasks      | elapsed:  9.6min\n[Parallel(n_jobs=-1)]: Done 1234 tasks      | elapsed: 14.9min\n[Parallel(n_jobs=-1)]: Done 1784 tasks      | elapsed: 22.0min\n[Parallel(n_jobs=-1)]: Done 2434 tasks      | elapsed: 30.4min\n[Parallel(n_jobs=-1)]: Done 3184 tasks      | elapsed: 40.3min\n[Parallel(n_jobs=-1)]: Done 4034 tasks      | elapsed: 51.2min\n[Parallel(n_jobs=-1)]: Done 4984 tasks      | elapsed: 69.3min\n[Parallel(n_jobs=-1)]: Done 6034 tasks      | elapsed: 92.9min\n[Parallel(n_jobs=-1)]: Done 7184 tasks      | elapsed: 122.7min\n[Parallel(n_jobs=-1)]: Done 8000 out of 8000 | elapsed: 147.4min finished\n"
    }
   ],
   "source": [
    "pipe = Pipeline(steps=[('vect', TfidfVectorizer(ngram_range = [1,6])), ('clf', LinearSVC(C=1.0))])\n",
    "search = GridSearchCV(pipe, param_grid, verbose = 1, scoring = 'accuracy', n_jobs=-1, cv = 5)\n",
    "search = search.fit(df_train['text'], df_train['class'])"
   ]
  },
  {
   "cell_type": "code",
   "execution_count": 13,
   "metadata": {},
   "outputs": [
    {
     "output_type": "stream",
     "name": "stdout",
     "text": "0.9119662243667068\n{'clf': LogisticRegression(C=1.6, class_weight='balanced', dual=False,\n                   fit_intercept=True, intercept_scaling=1, l1_ratio=None,\n                   max_iter=100, multi_class='auto', n_jobs=None, penalty='l2',\n                   random_state=None, solver='lbfgs', tol=0.0001, verbose=0,\n                   warm_start=False), 'clf__C': 1.6, 'clf__class_weight': 'balanced', 'vect': TfidfVectorizer(analyzer='word', binary=False, decode_error='strict',\n                dtype=<class 'numpy.float64'>, encoding='utf-8',\n                input='content', lowercase=True, max_df=1.0, max_features=None,\n                min_df=1, ngram_range=(1, 2), norm='l2', preprocessor=None,\n                smooth_idf=True, stop_words=None, strip_accents=None,\n                sublinear_tf=False, token_pattern='(?u)\\\\b\\\\w\\\\w+\\\\b',\n                tokenizer=None, use_idf=True, vocabulary=None), 'vect__ngram_range': (1, 2), 'vect__stop_words': None}\n"
    }
   ],
   "source": [
    "print(search.best_score_)\n",
    "print(search.best_params_)"
   ]
  },
  {
   "cell_type": "markdown",
   "metadata": {},
   "source": [
    "## Оценка на тестовой выборке\n",
    "Для удобства я заранее разметил вручную 100 отзывов от клиента. Так будет удобно сравнить ручную разметку и автоматическую на распарсенных данных.\n",
    "\n",
    "P.S. В отрицательных отзывах чаще всего встречаются слова \"не рекомендую к покупке\", \"полная хрень\", \"вы пожалеете\", \"НЕ ПОКУПАЙТЕ\" и т.п. Даже по этим n-граммам можно уже делать анализ тональности)"
   ]
  },
  {
   "cell_type": "code",
   "execution_count": 14,
   "metadata": {},
   "outputs": [],
   "source": [
    "df_test = pd.read_csv('data/test_class.csv')"
   ]
  },
  {
   "cell_type": "code",
   "execution_count": 15,
   "metadata": {},
   "outputs": [],
   "source": [
    "df_test['class_pred'] = search.predict(df_test['text'])"
   ]
  },
  {
   "cell_type": "code",
   "execution_count": 16,
   "metadata": {},
   "outputs": [
    {
     "output_type": "execute_result",
     "data": {
      "text/plain": "                                                text  class  class_pred\n0  Ужасно слабый аккумулятор, это основной минус ...      0           0\n1  ценанадежность-неубиваемостьдолго держит батар...      1           1\n2  подробнее в комментариях\\nК сожалению, факт по...      0           0\n3  я любительница громкой музыки. Тише телефона у...      0           0\n4  Дата выпуска - 2011 г, емкость - 1430 mAh, тех...      1           1",
      "text/html": "<div>\n<style scoped>\n    .dataframe tbody tr th:only-of-type {\n        vertical-align: middle;\n    }\n\n    .dataframe tbody tr th {\n        vertical-align: top;\n    }\n\n    .dataframe thead th {\n        text-align: right;\n    }\n</style>\n<table border=\"1\" class=\"dataframe\">\n  <thead>\n    <tr style=\"text-align: right;\">\n      <th></th>\n      <th>text</th>\n      <th>class</th>\n      <th>class_pred</th>\n    </tr>\n  </thead>\n  <tbody>\n    <tr>\n      <th>0</th>\n      <td>Ужасно слабый аккумулятор, это основной минус ...</td>\n      <td>0</td>\n      <td>0</td>\n    </tr>\n    <tr>\n      <th>1</th>\n      <td>ценанадежность-неубиваемостьдолго держит батар...</td>\n      <td>1</td>\n      <td>1</td>\n    </tr>\n    <tr>\n      <th>2</th>\n      <td>подробнее в комментариях\\nК сожалению, факт по...</td>\n      <td>0</td>\n      <td>0</td>\n    </tr>\n    <tr>\n      <th>3</th>\n      <td>я любительница громкой музыки. Тише телефона у...</td>\n      <td>0</td>\n      <td>0</td>\n    </tr>\n    <tr>\n      <th>4</th>\n      <td>Дата выпуска - 2011 г, емкость - 1430 mAh, тех...</td>\n      <td>1</td>\n      <td>1</td>\n    </tr>\n  </tbody>\n</table>\n</div>"
     },
     "metadata": {},
     "execution_count": 16
    }
   ],
   "source": [
    "df_test.head()"
   ]
  },
  {
   "cell_type": "code",
   "execution_count": 17,
   "metadata": {},
   "outputs": [
    {
     "output_type": "stream",
     "name": "stdout",
     "text": "Точность на тестовой выборке - 0.9\nПорог точности по ТЗ - 0.85\nТочность выше порога - True\n"
    }
   ],
   "source": [
    "score = accuracy_score(df_test['class'], df_test['class_pred'])\n",
    "score_threshold = 0.85\n",
    "print('Точность на тестовой выборке -', score)\n",
    "print('Порог точности по ТЗ -', score_threshold)\n",
    "print('Точность выше порога -', score > score_threshold)"
   ]
  },
  {
   "cell_type": "code",
   "execution_count": 23,
   "metadata": {},
   "outputs": [],
   "source": [
    "df_test['y'] = df_test['class_pred'].map({0:'neg', 1:'pos'})\n",
    "df_test.index.names = ['Id']\n",
    "df_test[['y']].to_csv('results/pred.csv')"
   ]
  },
  {
   "cell_type": "markdown",
   "metadata": {},
   "source": [
    "Результат хороший - учитывая, что обучающую выборку мы сделали сами на основе категории отзывов из тестовой. На kaggle получился результат 0.88000. Идеальной точности добиться на тестовой можно, но это будет нечестно, если загрузить размеченную самими тестовую выборку. В любом случае алгоритм будет немного ошибаться - 90% точности очень хороший результат, который работает как на тестовой, так и на обучающей. Зато без переообучения Результат хороший - учитывая, что обучающую выборку мы сделали сами на основе категории отзывов из тестовой. На kaggle получился результат 0.88000. Идеальной точности добиться на тестовой можно, но это будет нечестно, если загрузить размеченную самими тестовую выборку. В любом случае алгоритм будет немного ошибаться - 90% точности очень хороший результат, который работает как на тестовой, так и на обучающей. Зато без переообучения 🤯."
   ]
  }
 ],
 "metadata": {
  "language_info": {
   "codemirror_mode": {
    "name": "ipython",
    "version": 3
   },
   "file_extension": ".py",
   "mimetype": "text/x-python",
   "name": "python",
   "nbconvert_exporter": "python",
   "pygments_lexer": "ipython3",
   "version": "3.7.6-final"
  },
  "orig_nbformat": 2,
  "kernelspec": {
   "name": "python3",
   "display_name": "Python 3"
  }
 },
 "nbformat": 4,
 "nbformat_minor": 2
}