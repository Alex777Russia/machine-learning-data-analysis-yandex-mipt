{
 "cells": [
  {
   "cell_type": "code",
   "execution_count": 1,
   "metadata": {},
   "outputs": [],
   "source": [
    "import pandas as pd\n",
    "import numpy as np\n",
    "import scipy\n",
    "import statsmodels.stats.multitest as smm\n",
    "from statsmodels.sandbox.stats.multicomp import multipletests \n",
    "\n",
    "import warnings\n",
    "warnings.filterwarnings('ignore')"
   ]
  },
  {
   "cell_type": "code",
   "execution_count": 2,
   "metadata": {},
   "outputs": [],
   "source": [
    "def print_to_file(value, name):\n",
    "    print(name, value)\n",
    "    with open(name, \"w\") as file:\n",
    "        file.write(str(value))"
   ]
  },
  {
   "cell_type": "markdown",
   "metadata": {},
   "source": [
    "# Обнаружение статистически значимых отличий в уровнях экспрессии генов больных раком\n",
    "\n",
    "Это задание поможет вам лучше разобраться в методах множественной проверки гипотез и позволит применить ваши знания на данных из реального биологического исследования.\n",
    "\n",
    "## В этом задании вы:\n",
    "\n",
    "- вспомните, что такое t-критерий Стьюдента и для чего он применяется\n",
    "- сможете применить технику множественной проверки гипотез и увидеть собственными глазами, как она работает на реальных данных\n",
    "- почувствуете разницу в результатах применения различных методов поправки на множественную проверку\n",
    "\n",
    "## Описание используемых данных\n",
    "\n",
    "Данные для этой задачи взяты из исследования, проведенного в Stanford School of Medicine. В исследовании была предпринята попытка выявить набор генов, которые позволили бы более точно диагностировать возникновение рака груди на самых ранних стадиях."
   ]
  },
  {
   "cell_type": "code",
   "execution_count": 3,
   "metadata": {},
   "outputs": [
    {
     "data": {
      "text/html": [
       "<div>\n",
       "<style scoped>\n",
       "    .dataframe tbody tr th:only-of-type {\n",
       "        vertical-align: middle;\n",
       "    }\n",
       "\n",
       "    .dataframe tbody tr th {\n",
       "        vertical-align: top;\n",
       "    }\n",
       "\n",
       "    .dataframe thead th {\n",
       "        text-align: right;\n",
       "    }\n",
       "</style>\n",
       "<table border=\"1\" class=\"dataframe\">\n",
       "  <thead>\n",
       "    <tr style=\"text-align: right;\">\n",
       "      <th></th>\n",
       "      <th>Patient_id</th>\n",
       "      <th>Diagnosis</th>\n",
       "      <th>LOC643837</th>\n",
       "      <th>LOC100130417</th>\n",
       "      <th>SAMD11</th>\n",
       "      <th>NOC2L</th>\n",
       "      <th>KLHL17</th>\n",
       "      <th>PLEKHN1</th>\n",
       "      <th>C1orf170</th>\n",
       "      <th>HES4</th>\n",
       "      <th>...</th>\n",
       "      <th>CLIC2</th>\n",
       "      <th>RPS4Y1</th>\n",
       "      <th>ZFY</th>\n",
       "      <th>PRKY</th>\n",
       "      <th>USP9Y</th>\n",
       "      <th>DDX3Y</th>\n",
       "      <th>CD24</th>\n",
       "      <th>CYorf15B</th>\n",
       "      <th>KDM5D</th>\n",
       "      <th>EIF1AY</th>\n",
       "    </tr>\n",
       "  </thead>\n",
       "  <tbody>\n",
       "    <tr>\n",
       "      <th>0</th>\n",
       "      <td>STT5425_Breast_001_normal</td>\n",
       "      <td>normal</td>\n",
       "      <td>1.257614</td>\n",
       "      <td>2.408148</td>\n",
       "      <td>13.368622</td>\n",
       "      <td>9.494779</td>\n",
       "      <td>20.880435</td>\n",
       "      <td>12.722017</td>\n",
       "      <td>9.494779</td>\n",
       "      <td>54.349694</td>\n",
       "      <td>...</td>\n",
       "      <td>4.761250</td>\n",
       "      <td>1.257614</td>\n",
       "      <td>1.257614</td>\n",
       "      <td>1.257614</td>\n",
       "      <td>1.257614</td>\n",
       "      <td>1.257614</td>\n",
       "      <td>23.268694</td>\n",
       "      <td>1.257614</td>\n",
       "      <td>1.257614</td>\n",
       "      <td>1.257614</td>\n",
       "    </tr>\n",
       "    <tr>\n",
       "      <th>1</th>\n",
       "      <td>STT5427_Breast_023_normal</td>\n",
       "      <td>normal</td>\n",
       "      <td>4.567931</td>\n",
       "      <td>16.602734</td>\n",
       "      <td>42.477752</td>\n",
       "      <td>25.562376</td>\n",
       "      <td>23.221137</td>\n",
       "      <td>11.622386</td>\n",
       "      <td>14.330573</td>\n",
       "      <td>72.445474</td>\n",
       "      <td>...</td>\n",
       "      <td>6.871902</td>\n",
       "      <td>1.815112</td>\n",
       "      <td>1.815112</td>\n",
       "      <td>1.815112</td>\n",
       "      <td>1.815112</td>\n",
       "      <td>1.815112</td>\n",
       "      <td>10.427023</td>\n",
       "      <td>1.815112</td>\n",
       "      <td>1.815112</td>\n",
       "      <td>1.815112</td>\n",
       "    </tr>\n",
       "    <tr>\n",
       "      <th>2</th>\n",
       "      <td>STT5430_Breast_002_normal</td>\n",
       "      <td>normal</td>\n",
       "      <td>2.077597</td>\n",
       "      <td>3.978294</td>\n",
       "      <td>12.863214</td>\n",
       "      <td>13.728915</td>\n",
       "      <td>14.543176</td>\n",
       "      <td>14.141907</td>\n",
       "      <td>6.232790</td>\n",
       "      <td>57.011005</td>\n",
       "      <td>...</td>\n",
       "      <td>7.096343</td>\n",
       "      <td>2.077597</td>\n",
       "      <td>2.077597</td>\n",
       "      <td>2.077597</td>\n",
       "      <td>2.077597</td>\n",
       "      <td>2.077597</td>\n",
       "      <td>22.344226</td>\n",
       "      <td>2.077597</td>\n",
       "      <td>2.077597</td>\n",
       "      <td>2.077597</td>\n",
       "    </tr>\n",
       "    <tr>\n",
       "      <th>3</th>\n",
       "      <td>STT5439_Breast_003_normal</td>\n",
       "      <td>normal</td>\n",
       "      <td>2.066576</td>\n",
       "      <td>8.520713</td>\n",
       "      <td>14.466035</td>\n",
       "      <td>7.823932</td>\n",
       "      <td>8.520713</td>\n",
       "      <td>2.066576</td>\n",
       "      <td>10.870009</td>\n",
       "      <td>53.292034</td>\n",
       "      <td>...</td>\n",
       "      <td>5.200770</td>\n",
       "      <td>2.066576</td>\n",
       "      <td>2.066576</td>\n",
       "      <td>2.066576</td>\n",
       "      <td>2.066576</td>\n",
       "      <td>2.066576</td>\n",
       "      <td>49.295538</td>\n",
       "      <td>2.066576</td>\n",
       "      <td>2.066576</td>\n",
       "      <td>2.066576</td>\n",
       "    </tr>\n",
       "    <tr>\n",
       "      <th>4</th>\n",
       "      <td>STT5441_Breast_004_normal</td>\n",
       "      <td>normal</td>\n",
       "      <td>2.613616</td>\n",
       "      <td>3.434965</td>\n",
       "      <td>12.682222</td>\n",
       "      <td>10.543189</td>\n",
       "      <td>26.688686</td>\n",
       "      <td>12.484822</td>\n",
       "      <td>1.364917</td>\n",
       "      <td>67.140393</td>\n",
       "      <td>...</td>\n",
       "      <td>11.227770</td>\n",
       "      <td>1.364917</td>\n",
       "      <td>1.364917</td>\n",
       "      <td>1.364917</td>\n",
       "      <td>1.364917</td>\n",
       "      <td>1.364917</td>\n",
       "      <td>23.627911</td>\n",
       "      <td>1.364917</td>\n",
       "      <td>1.364917</td>\n",
       "      <td>1.364917</td>\n",
       "    </tr>\n",
       "  </tbody>\n",
       "</table>\n",
       "<p>5 rows × 15750 columns</p>\n",
       "</div>"
      ],
      "text/plain": [
       "                  Patient_id Diagnosis  LOC643837  LOC100130417     SAMD11  \\\n",
       "0  STT5425_Breast_001_normal    normal   1.257614      2.408148  13.368622   \n",
       "1  STT5427_Breast_023_normal    normal   4.567931     16.602734  42.477752   \n",
       "2  STT5430_Breast_002_normal    normal   2.077597      3.978294  12.863214   \n",
       "3  STT5439_Breast_003_normal    normal   2.066576      8.520713  14.466035   \n",
       "4  STT5441_Breast_004_normal    normal   2.613616      3.434965  12.682222   \n",
       "\n",
       "       NOC2L     KLHL17    PLEKHN1   C1orf170       HES4  ...      CLIC2  \\\n",
       "0   9.494779  20.880435  12.722017   9.494779  54.349694  ...   4.761250   \n",
       "1  25.562376  23.221137  11.622386  14.330573  72.445474  ...   6.871902   \n",
       "2  13.728915  14.543176  14.141907   6.232790  57.011005  ...   7.096343   \n",
       "3   7.823932   8.520713   2.066576  10.870009  53.292034  ...   5.200770   \n",
       "4  10.543189  26.688686  12.484822   1.364917  67.140393  ...  11.227770   \n",
       "\n",
       "     RPS4Y1       ZFY      PRKY     USP9Y     DDX3Y       CD24  CYorf15B  \\\n",
       "0  1.257614  1.257614  1.257614  1.257614  1.257614  23.268694  1.257614   \n",
       "1  1.815112  1.815112  1.815112  1.815112  1.815112  10.427023  1.815112   \n",
       "2  2.077597  2.077597  2.077597  2.077597  2.077597  22.344226  2.077597   \n",
       "3  2.066576  2.066576  2.066576  2.066576  2.066576  49.295538  2.066576   \n",
       "4  1.364917  1.364917  1.364917  1.364917  1.364917  23.627911  1.364917   \n",
       "\n",
       "      KDM5D    EIF1AY  \n",
       "0  1.257614  1.257614  \n",
       "1  1.815112  1.815112  \n",
       "2  2.077597  2.077597  \n",
       "3  2.066576  2.066576  \n",
       "4  1.364917  1.364917  \n",
       "\n",
       "[5 rows x 15750 columns]"
      ]
     },
     "execution_count": 3,
     "metadata": {},
     "output_type": "execute_result"
    }
   ],
   "source": [
    "df = pd.read_csv('gene_high_throughput_sequencing.csv')\n",
    "df.head(5)"
   ]
  },
  {
   "cell_type": "markdown",
   "metadata": {},
   "source": [
    "В эксперименте принимали участие 24 человек, у которых не было рака груди (normal), 25 человек, у которых это заболевание было диагностировано на ранней стадии (early neoplasia), и 23 человека с сильно выраженными симптомами (cancer).\n",
    "\n",
    "Ученые провели секвенирование биологического материала испытуемых, чтобы понять, какие из этих генов наиболее активны в клетках больных людей.\n",
    "\n",
    "Секвенирование — это определение степени активности генов в анализируемом образце с помощью подсчёта количества соответствующей каждому гену РНК.\n",
    "\n",
    "В данных для этого задания вы найдете именно эту количественную меру активности каждого из 15748 генов у каждого из 72 человек, принимавших участие в эксперименте.\n",
    "\n",
    "Вам нужно будет определить те гены, активность которых у людей в разных стадиях заболевания отличается статистически значимо.\n",
    "\n",
    "Кроме того, вам нужно будет оценить не только статистическую, но и практическую значимость этих результатов, которая часто используется в подобных исследованиях.\n",
    "\n",
    "Диагноз человека содержится в столбце под названием \"Diagnosis\".\n",
    "\n",
    "## Практическая значимость изменения\n",
    "\n",
    "Цель исследований — найти гены, средняя экспрессия которых отличается не только статистически значимо, но и достаточно сильно. В экспрессионных исследованиях для этого часто используется метрика, которая называется fold change (кратность изменения). Определяется она следующим образом:\n",
    "\n",
    "$$F_c(C,T) =\n",
    "\\left\\{\\begin{matrix}\\frac{T}{C}, T>C\n",
    "\\\\ \\frac{-C}{T}, T<C\n",
    "\\end{matrix}\\right.$$\n",
    "\n",
    "где $C, T$ — средние значения экспрессии гена в control и treatment группах соответственно. По сути, fold change показывает, во сколько раз отличаются средние двух выборок.\n",
    "\n",
    "## Инструкции к решению задачи\n",
    "\n",
    "Задание состоит из трёх частей. Если не сказано обратное, то уровень значимости нужно принять равным 0.05.\n",
    "### Часть 1: применение t-критерия Стьюдента\n",
    "\n",
    "В первой части вам нужно будет применить критерий Стьюдента для проверки гипотезы о равенстве средних в двух независимых выборках. Применить критерий для каждого гена нужно будет дважды:\n",
    "\n",
    "- для групп __normal (control)__ и __early neoplasia (treatment)__\n",
    "- для групп __early neoplasia (control)__ и __cancer (treatment)__\n",
    "\n",
    "В качестве ответа в этой части задания необходимо указать количество статистически значимых отличий, которые вы нашли с помощью t-критерия Стьюдента, то есть число генов, у которых p-value этого теста оказался меньше, чем уровень значимости. "
   ]
  },
  {
   "cell_type": "code",
   "execution_count": 4,
   "metadata": {},
   "outputs": [],
   "source": [
    "df_normal = df[df.Diagnosis == 'normal']\n",
    "df_early = df[df.Diagnosis == 'early neoplasia']\n",
    "df_cancer = df[df.Diagnosis == 'cancer']"
   ]
  },
  {
   "cell_type": "code",
   "execution_count": 5,
   "metadata": {},
   "outputs": [],
   "source": [
    "def compare_df_ttest_columns(df_control, df_treatment, cols):\n",
    "    p_vals = [scipy.stats.ttest_ind(df_control[col], df_treatment[col], equal_var = False).pvalue for col in cols]\n",
    "    return np.array(p_vals)"
   ]
  },
  {
   "cell_type": "code",
   "execution_count": 6,
   "metadata": {},
   "outputs": [],
   "source": [
    "cols = df_normal.columns[2:].to_numpy()\n",
    "p_vals_normal_early = compare_df_ttest_columns(df_normal, df_early, cols)\n",
    "p_vals_early_cancer = compare_df_ttest_columns(df_early, df_cancer, cols)"
   ]
  },
  {
   "cell_type": "code",
   "execution_count": 7,
   "metadata": {},
   "outputs": [
    {
     "name": "stdout",
     "output_type": "stream",
     "text": [
      "1-1-normal_early.txt 1575\n",
      "1-2-early_cancer.txt 3490\n"
     ]
    }
   ],
   "source": [
    "t = 0.05\n",
    "diffs_normal_early = sum(np.array(p_vals_normal_early) < t)\n",
    "diffs_early_cancer = sum(np.array(p_vals_early_cancer) < t)\n",
    "print_to_file(diffs_normal_early,'1-1-normal_early.txt')\n",
    "print_to_file(diffs_early_cancer,'1-2-early_cancer.txt')"
   ]
  },
  {
   "cell_type": "markdown",
   "metadata": {},
   "source": [
    "Это достаточно огромное количество признаков. \n",
    "\n",
    "### Часть 2: поправка методом Холма\n",
    "\n",
    "Для этой части задания вам понадобится модуль __multitest__ из statsmodels.\n",
    "\n",
    "В этой части задания нужно будет применить поправку Холма для получившихся двух наборов достигаемых уровней значимости из предыдущей части. Обратите внимание, что поскольку вы будете делать поправку для каждого из двух наборов p-value отдельно, то проблема, связанная с множественной проверкой останется.\n",
    "\n",
    "Для того, чтобы ее устранить, достаточно воспользоваться поправкой Бонферрони, то есть использовать уровень значимости 0.05 / 2 вместо 0.05 для дальнейшего уточнения значений p-value c помощью метода Холма.\n",
    "\n",
    "В качестве ответа к этому заданию требуется ввести количество значимых отличий в каждой группе после того, как произведена коррекция Холма-Бонферрони. Причем это число нужно ввести с учетом практической значимости: посчитайте для каждого значимого изменения fold change и выпишите в ответ число таких значимых изменений, абсолютное значение fold change которых больше, чем 1.51.\n",
    "\n",
    "__Обратите внимание, что__\n",
    "\n",
    "- применять поправку на множественную проверку нужно __ко всем значениям достигаемых уровней значимости, а не только для тех, которые меньше значения уровня доверия__.\n",
    "- при использовании поправки на уровне значимости 0.025 __меняются значения достигаемого уровня значимости, но не меняется значение уровня доверия__ (то есть для отбора значимых изменений скорректированные значения уровня значимости нужно сравнивать с порогом 0.025, а не 0.05)! "
   ]
  },
  {
   "cell_type": "code",
   "execution_count": 8,
   "metadata": {},
   "outputs": [],
   "source": [
    "def get_fold_change(C,T):\n",
    "    if T>C:\n",
    "        return T/C\n",
    "    else:\n",
    "        return -C/T\n",
    "    \n",
    "def get_fold_changes(df_control, df_treatment, cols, p_vals, method, alpha):\n",
    "    reject = multipletests(p_vals, alpha = alpha, method = method) [0]\n",
    "    means_control = df_control.loc[:,cols[reject]].mean()\n",
    "    means_treatment = df_treatment.loc[:,cols[reject]].mean()\n",
    "    df_means = pd.DataFrame([means_control, means_treatment])\n",
    "    fold_changes = df_means.apply(lambda cols: get_fold_change(cols[0], cols[1]))\n",
    "    return fold_changes\n",
    "\n",
    "def get_practic_fold_change_count(df_control, df_treatment, cols, \n",
    "                                  p_vals, method, alpha, threshold):\n",
    "    fold_changes = get_fold_changes(df_control, df_treatment, cols, p_vals, method, alpha)\n",
    "    return np.sum(np.abs(fold_changes)>threshold)"
   ]
  },
  {
   "cell_type": "code",
   "execution_count": 9,
   "metadata": {},
   "outputs": [
    {
     "name": "stdout",
     "output_type": "stream",
     "text": [
      "2-1-normal_early-holm.txt 2\n",
      "2-2-early_cancer-holm.txt 77\n"
     ]
    }
   ],
   "source": [
    "alpha = 0.05 / 2\n",
    "practic_fc_normal_early = get_practic_fold_change_count(df_normal, df_early, cols, \n",
    "                                                        p_vals_normal_early, 'holm', alpha, 1.5)\n",
    "practic_fc_early_cancer = get_practic_fold_change_count(df_early, df_cancer, cols, \n",
    "                                                        p_vals_early_cancer, 'holm', alpha, 1.5)\n",
    "\n",
    "print_to_file(practic_fc_normal_early,'2-1-normal_early-holm.txt')\n",
    "print_to_file(practic_fc_early_cancer,'2-2-early_cancer-holm.txt')"
   ]
  },
  {
   "cell_type": "markdown",
   "metadata": {},
   "source": [
    "### Часть 3: поправка методом Бенджамини-Хохберга\n",
    "\n",
    "Данная часть задания аналогична второй части за исключением того, что нужно будет использовать метод Бенджамини-Хохберга.\n",
    "\n",
    "Обратите внимание, что методы коррекции, которые контролируют FDR, допускает больше ошибок первого рода и имеют большую мощность, чем методы, контролирующие FWER. Большая мощность означает, что эти методы будут совершать меньше ошибок второго рода (то есть будут лучше улавливать отклонения от $H_0$, когда они есть, и будут чаще отклонять $H_0$, когда отличий нет).\n",
    "\n",
    "В качестве ответа к этому заданию требуется ввести количество значимых отличий в каждой группе после того, как произведена коррекция Бенджамини-Хохберга, причем так же, как и во второй части, считать только такие отличия, у которых abs(fold change) > 1.5. "
   ]
  },
  {
   "cell_type": "code",
   "execution_count": 10,
   "metadata": {},
   "outputs": [
    {
     "name": "stdout",
     "output_type": "stream",
     "text": [
      "3-1-normal_early-fdr_bh.txt 4\n",
      "3-2-early_cancer-fdr_bh.txt 524\n"
     ]
    }
   ],
   "source": [
    "alpha = 0.05 / 2\n",
    "practic_fc_normal_early = get_practic_fold_change_count(df_normal, df_early, cols, \n",
    "                                                        p_vals_normal_early, 'fdr_bh', alpha, 1.5)\n",
    "practic_fc_early_cancer = get_practic_fold_change_count(df_early, df_cancer, cols, \n",
    "                                                        p_vals_early_cancer, 'fdr_bh', alpha, 1.5)\n",
    "\n",
    "print_to_file(practic_fc_normal_early,'3-1-normal_early-fdr_bh.txt')\n",
    "print_to_file(practic_fc_early_cancer,'3-2-early_cancer-fdr_bh.txt')"
   ]
  },
  {
   "cell_type": "markdown",
   "metadata": {},
   "source": [
    "## Выводы\n",
    "Мы сравнивали контрольную и тестовую группы. С помощью t-критерия сравнили средние признаков из этих двух выборок - получили p-value признаков. \n",
    "Так как выборки две, мы использовали поправки Холма и Бенджамини-Хохберга. Они дали нам дали статистически значимые отличия, на которых мы применили fold_change для определения практической значимости. Таким образом мы отобрали только те признаки, которые имеют статистически и практически значимые отличия.\n",
    "Метод Холма дал меньшее количество значимо отличающихся признаков, чем метод Бенджамини-Хохберга. Метод Холма избегает всех ошибок первого рода, но, увы, не смотрит за ошибками второго рода. Метод Бенджамини-Хохберга находит баланс между ошибками первого и второго родов."
   ]
  }
 ],
 "metadata": {
  "kernelspec": {
   "display_name": "Python 3",
   "language": "python",
   "name": "python3"
  },
  "language_info": {
   "codemirror_mode": {
    "name": "ipython",
    "version": 3
   },
   "file_extension": ".py",
   "mimetype": "text/x-python",
   "name": "python",
   "nbconvert_exporter": "python",
   "pygments_lexer": "ipython3",
   "version": "3.7.3"
  },
  "toc": {
   "base_numbering": 1,
   "nav_menu": {
    "height": "219px",
    "width": "264.967px"
   },
   "number_sections": true,
   "sideBar": true,
   "skip_h1_title": false,
   "title_cell": "Table of Contents",
   "title_sidebar": "Contents",
   "toc_cell": false,
   "toc_position": {
    "height": "calc(100% - 180px)",
    "left": "10px",
    "top": "150px",
    "width": "246.396px"
   },
   "toc_section_display": true,
   "toc_window_display": true
  }
 },
 "nbformat": 4,
 "nbformat_minor": 2
}
