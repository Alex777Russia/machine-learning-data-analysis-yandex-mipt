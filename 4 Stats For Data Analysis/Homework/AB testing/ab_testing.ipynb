{
 "cells": [
  {
   "cell_type": "code",
   "execution_count": 1,
   "metadata": {},
   "outputs": [
    {
     "name": "stdout",
     "output_type": "stream",
     "text": [
      "Populating the interactive namespace from numpy and matplotlib\n"
     ]
    }
   ],
   "source": [
    "import pandas as pd\n",
    "import numpy as np\n",
    "from scipy import stats\n",
    "import scipy\n",
    "from statsmodels.sandbox.stats.multicomp import multipletests \n",
    "\n",
    "%pylab inline\n",
    "\n",
    "import warnings\n",
    "warnings.filterwarnings('ignore')"
   ]
  },
  {
   "cell_type": "markdown",
   "metadata": {},
   "source": [
    "# Анализ результатов АБ-теста\n",
    "\n",
    "В данном задании вам нужно будет\n",
    "\n",
    "- проанализировать АБ тест, проведенный на реальных пользователях Яндекса\n",
    "- подтвердить или опровергнуть наличие изменений в пользовательском поведении между контрольной (control) и тестовой (exp) группами\n",
    "- определить характер этих изменений и практическую значимость вводимого изменения\n",
    "- понять, какая из пользовательских групп более всего проигрывает / выигрывает от тестируемого изменения (локализовать изменение)\n",
    "\n",
    "## Описание данных:\n",
    "\n",
    "- userID: уникальный идентификатор пользователя\n",
    "- browser: браузер, который использовал userID\n",
    "- slot: в каком статусе пользователь участвовал в исследовании (exp = видел измененную страницу, control = видел неизменную страницу)\n",
    "- n_clicks: количество кликов, которые пользоваль совершил за n_queries\n",
    "- n_queries: количество запросов, который совершил userID, пользуясь браузером browser\n",
    "- n_nonclk_queries: количество запросов пользователя, в которых им не было совершено ни одного клика\n",
    "\n",
    "Обращаем ваше внимание, что не все люди используют только один браузер, поэтому в столбце userID есть повторяющиеся идентификаторы. В предлагаемых данных уникальным является сочетание userID и browser.\n",
    "\n",
    "Основная метрика, на которой мы сосредоточимся в этой работе, — это количество пользовательских кликов на web-странице в зависимости от тестируемого изменения этой страницы. "
   ]
  },
  {
   "cell_type": "code",
   "execution_count": 3,
   "metadata": {},
   "outputs": [
    {
     "data": {
      "text/html": [
       "<div>\n",
       "<style scoped>\n",
       "    .dataframe tbody tr th:only-of-type {\n",
       "        vertical-align: middle;\n",
       "    }\n",
       "\n",
       "    .dataframe tbody tr th {\n",
       "        vertical-align: top;\n",
       "    }\n",
       "\n",
       "    .dataframe thead th {\n",
       "        text-align: right;\n",
       "    }\n",
       "</style>\n",
       "<table border=\"1\" class=\"dataframe\">\n",
       "  <thead>\n",
       "    <tr style=\"text-align: right;\">\n",
       "      <th></th>\n",
       "      <th>userID</th>\n",
       "      <th>browser</th>\n",
       "      <th>slot</th>\n",
       "      <th>n_clicks</th>\n",
       "      <th>n_queries</th>\n",
       "      <th>n_nonclk_queries</th>\n",
       "    </tr>\n",
       "  </thead>\n",
       "  <tbody>\n",
       "    <tr>\n",
       "      <th>0</th>\n",
       "      <td>1</td>\n",
       "      <td>Browser #2</td>\n",
       "      <td>exp</td>\n",
       "      <td>23</td>\n",
       "      <td>32</td>\n",
       "      <td>19</td>\n",
       "    </tr>\n",
       "    <tr>\n",
       "      <th>1</th>\n",
       "      <td>3</td>\n",
       "      <td>Browser #4</td>\n",
       "      <td>exp</td>\n",
       "      <td>3</td>\n",
       "      <td>4</td>\n",
       "      <td>2</td>\n",
       "    </tr>\n",
       "    <tr>\n",
       "      <th>2</th>\n",
       "      <td>5</td>\n",
       "      <td>Browser #4</td>\n",
       "      <td>exp</td>\n",
       "      <td>29</td>\n",
       "      <td>35</td>\n",
       "      <td>16</td>\n",
       "    </tr>\n",
       "    <tr>\n",
       "      <th>3</th>\n",
       "      <td>6</td>\n",
       "      <td>Browser #4</td>\n",
       "      <td>control</td>\n",
       "      <td>12</td>\n",
       "      <td>6</td>\n",
       "      <td>0</td>\n",
       "    </tr>\n",
       "    <tr>\n",
       "      <th>4</th>\n",
       "      <td>7</td>\n",
       "      <td>Browser #4</td>\n",
       "      <td>exp</td>\n",
       "      <td>54</td>\n",
       "      <td>68</td>\n",
       "      <td>30</td>\n",
       "    </tr>\n",
       "  </tbody>\n",
       "</table>\n",
       "</div>"
      ],
      "text/plain": [
       "   userID     browser     slot  n_clicks  n_queries  n_nonclk_queries\n",
       "0       1  Browser #2      exp        23         32                19\n",
       "1       3  Browser #4      exp         3          4                 2\n",
       "2       5  Browser #4      exp        29         35                16\n",
       "3       6  Browser #4  control        12          6                 0\n",
       "4       7  Browser #4      exp        54         68                30"
      ]
     },
     "execution_count": 3,
     "metadata": {},
     "output_type": "execute_result"
    }
   ],
   "source": [
    "df = pd.read_csv('ab_browser_test.csv')\n",
    "df.head(5)"
   ]
  },
  {
   "cell_type": "code",
   "execution_count": 4,
   "metadata": {},
   "outputs": [
    {
     "name": "stdout",
     "output_type": "stream",
     "text": [
      "<class 'pandas.core.frame.DataFrame'>\n",
      "RangeIndex: 566134 entries, 0 to 566133\n",
      "Data columns (total 6 columns):\n",
      "userID              566134 non-null int64\n",
      "browser             566134 non-null object\n",
      "slot                566134 non-null object\n",
      "n_clicks            566134 non-null int64\n",
      "n_queries           566134 non-null int64\n",
      "n_nonclk_queries    566134 non-null int64\n",
      "dtypes: int64(4), object(2)\n",
      "memory usage: 25.9+ MB\n"
     ]
    }
   ],
   "source": [
    "df.info()"
   ]
  },
  {
   "cell_type": "markdown",
   "metadata": {},
   "source": [
    "## Задания\n",
    "### Сравнение кликов в двух группах\n",
    "Посчитайте, насколько в группе exp больше пользовательских кликов по сравнению с группой control __в процентах__ от числа кликов в контрольной группе.\n",
    "\n",
    "Полученный процент округлите до третьего знака после точки. "
   ]
  },
  {
   "cell_type": "code",
   "execution_count": 5,
   "metadata": {},
   "outputs": [],
   "source": [
    "df_control = df[df.slot == 'control']\n",
    "df_exp = df[df.slot == 'exp']"
   ]
  },
  {
   "cell_type": "code",
   "execution_count": 6,
   "metadata": {},
   "outputs": [],
   "source": [
    "n_clicks_control_sum = df_control.n_clicks.sum()\n",
    "n_clicks_exp_sum  = df_exp.n_clicks.sum()"
   ]
  },
  {
   "cell_type": "code",
   "execution_count": 7,
   "metadata": {},
   "outputs": [
    {
     "name": "stdout",
     "output_type": "stream",
     "text": [
      "1.614\n"
     ]
    }
   ],
   "source": [
    "result = (n_clicks_exp_sum - n_clicks_control_sum) / n_clicks_control_sum * 100\n",
    "print(np.round(result,3))"
   ]
  },
  {
   "cell_type": "markdown",
   "metadata": {},
   "source": [
    "### Бутстреп\n",
    "Давайте попробуем посмотреть более внимательно на разницу между двумя группами (control и exp) относительно количества пользовательских кликов.\n",
    "\n",
    "Для этого постройте с помощью бутстрепа 95% доверительный интервал для средних значений и медиан количества кликов в каждой из двух групп. Отметьте все верные утверждения. "
   ]
  },
  {
   "cell_type": "code",
   "execution_count": 8,
   "metadata": {},
   "outputs": [],
   "source": [
    "def get_bootstrap_samples(data, n_samples):\n",
    "    indices = np.random.randint(0, len(data), (n_samples, len(data)))\n",
    "    samples = data[indices]\n",
    "    return samples"
   ]
  },
  {
   "cell_type": "code",
   "execution_count": 9,
   "metadata": {},
   "outputs": [],
   "source": [
    "def stat_intervals(stat, alpha):\n",
    "    boundaries = np.percentile(stat, [100 * alpha / 2., 100 * (1 - alpha / 2.)])\n",
    "    return boundaries"
   ]
  },
  {
   "cell_type": "code",
   "execution_count": 10,
   "metadata": {},
   "outputs": [],
   "source": [
    "def get_bootstrap_interval(data, function, alpha = 0.05):\n",
    "    np.random.seed(0)\n",
    "    scores = list(map(function, get_bootstrap_samples(data, 1000)))\n",
    "    return stat_intervals(scores, alpha)"
   ]
  },
  {
   "cell_type": "code",
   "execution_count": 11,
   "metadata": {},
   "outputs": [],
   "source": [
    "def print_bootstrap_diff_interval(text, exp, control, function, alpha = 0.05):\n",
    "    n_clicks_interval = get_bootstrap_interval(exp, function, alpha) - get_bootstrap_interval(control, function, alpha)\n",
    "    print (text, n_clicks_interval)"
   ]
  },
  {
   "cell_type": "code",
   "execution_count": 12,
   "metadata": {},
   "outputs": [],
   "source": [
    "n_clicks_control_values = df_control.n_clicks.values\n",
    "n_clicks_exp_values = df_exp.n_clicks.values"
   ]
  },
  {
   "cell_type": "code",
   "execution_count": 13,
   "metadata": {},
   "outputs": [
    {
     "name": "stdout",
     "output_type": "stream",
     "text": [
      "Интервал среднего разности двух выборок [0.3004329  0.30201631]\n",
      "Интервал медианы разности двух выборок [1. 1.]\n"
     ]
    }
   ],
   "source": [
    "print_bootstrap_diff_interval('Интервал среднего разности двух выборок',n_clicks_exp_values,\n",
    "                         n_clicks_control_values,np.mean)\n",
    "print_bootstrap_diff_interval('Интервал медианы разности двух выборок',n_clicks_exp_values,\n",
    "                         n_clicks_control_values,np.median)"
   ]
  },
  {
   "cell_type": "markdown",
   "metadata": {},
   "source": [
    "- 95% доверительный интервал для разности медиан не содержит ноль, похоже, медианы отличаются статистически значимо\n",
    "\n",
    "- 95% доверительный интервал для разности средних не содержит ноль, похоже, средние отличаются статистически значимо"
   ]
  },
  {
   "cell_type": "markdown",
   "metadata": {},
   "source": [
    "### Утверждения\n",
    "Поскольку данных достаточно много (порядка полумиллиона уникальных пользователей), отличие в несколько процентов может быть не только практически значимым, но и значимым статистически. Последнее утверждение нуждается в дополнительной проверке.\n",
    "\n",
    "Посмотрите на выданные вам данные и выберите все верные варианты ответа относительно проверки гипотезы о равенстве среднего количества кликов в группах. \n",
    "- Всё неверно"
   ]
  },
  {
   "cell_type": "markdown",
   "metadata": {},
   "source": [
    "### Q-Q графики немного ку-ку\n",
    "t-критерий Стьюдента имеет множество достоинств, и потому его достаточно часто применяют в AB экспериментах. Иногда его применение может быть необоснованно из-за сильной скошенности распределения данных.\n",
    "\n",
    "Давайте постараемся понять, когда t-критерий можно применять и как это проверить на реальных данных.\n",
    "\n",
    "Для простоты рассмотрим одновыборочный t-критерий. Его статистика имеет вид $\\frac{\\bar{X}−μ}{\\frac{S^2}{n}}$, то есть чтобы действительно предположения t-критерия выполнялись необходимо, чтобы:\n",
    "\n",
    "- $\\bar{X}$ — среднее значение в выборке — было распределено нормально $N(μ,\\frac{σ^2}{n})$\n",
    "- $\\frac{n}{σ^2}S^2$ — несмещенная оценка дисперсии c масштабирующим коэффициентом — была распределена по хи-квадрат c n−1 степенями свободы $χ^2(n−1) $\n",
    "\n",
    "Простое доказательство необходимости и достаточности этого требования можно посмотреть в самом последнем абзаце этого вопроса. Усвоение этого доказательства не обязательно для выполнения задания.\n",
    "\n",
    "Оба этих предположения можно проверить с помощью бутстрепа. Ограничимся сейчас только контрольной группой, в которой распределение кликов будем называть данными в рамках данного вопроса.\n",
    "\n",
    "Поскольку мы не знаем истинного распределения генеральной совокупности, мы можем применить бутстреп, чтобы понять, как распределены среднее значение и выборочная дисперсия. Для этого\n",
    "\n",
    "1. Получите из данных n_boot_samples псевдовыборок.\n",
    "2. По каждой из этих выборок посчитайте среднее и сумму квадратов отклонения от выборочного среднего (control_boot_chi_squared)\n",
    "3. Для получившегося вектора средних значений из n_boot_samples постройте q-q plot с помощью scipy.stats.probplot для нормального распределения\n",
    "4. Для получившегося вектора сумм квадратов отклонения от выборочного среднего постройте qq-plot с помощью scipy.stats.probplot для хи-квадрат распределения с помощью команды \n",
    "```python    \n",
    "scipy.stats.probplot(control_boot_chi_squared, dist=\"chi2\", \n",
    "                     sparams=(n-1), plot=plt)\n",
    "```\n",
    "\n",
    "Где sparams=(n-1) означают число степеней свободы = длине выборки - 1.\n",
    "\n",
    "Чтобы получить такой же ответ, как у нас, зафиксируйте seed и количество псевдовыборок:\n",
    "```python \n",
    "np.random.seed(0)\n",
    "n_boot_samples = 500\n",
    "```\n",
    "\n",
    "В качестве ответа отметьте верные утвердения о значениях $R^2$, которые генерирует scipy.stats.probplot при отображении qq-графиков: одно c графика для среднего и одно с графика для выборочной суммы квадратов отклонения от выборочной суммы.\n",
    "\n",
    "__Почему мы проверяем именно такие условия?__\n",
    "\n",
    "В исходной постановке t-критерий требует нормальности распределения $X_i$. Именно из-за этого предположения мы имеем, что $∑X_i∼N(nμ,nσ^2)$ в силу линейности матожидания, независимости всех $X_i$ между собой и того факта, что сумма нескольких нормальных случайных величин также нормальна.\n",
    "\n",
    "Поэтому, пользуясь опять формальными свойствами матожидания и дисперсии можем записать, что $\\frac{1}{n}∑X_i−μ ∼ N(0,\\frac{σ^2}{n})$\n",
    "\n",
    "Заметим теперь, что следующие распределения эквивалентны $N(0,\\frac{σ^2}{n})∼\\sqrt{\\frac{σ^2}{n}}N(0,1)$\n",
    "\n",
    "То есть другими словами мы получили, что исходная статистика $\\frac{\\bar{X}−μ}{\\sqrt{\\frac{S^2}{n}}}$ распределена как $\\frac{N(0,1)}{\\frac{S^2n}{n σ^2}} ∼ \\frac{N(0,1)}{\\frac{S^2}{σ^2}}$\n",
    "\n",
    "Вспомним, что распределение Стьюдента с $n-1$ степенями свободы определяется как $\\frac{N(0,1)}{\\sqrt{\\frac{χ^2}{(n−1)}}}$. Поэтому и требования, которые накладываются, имеют вид, указанный в начале этого вопроса.\n",
    "\n",
    "Полезно, однако, заметить, что можно подставить в числитель и знаменатель любые случайные величины, распределенные по нормальному закону и по Хи-квадрат соответственно, для этого необязательно, чтобы именно $X_i$ были распределены нормально. Поэтому, если мы убедимся в том, что, действительно, числитель и знаменатель распределены образом, указанным выше, то можно смело использовать t-критерий Стьюдента."
   ]
  },
  {
   "cell_type": "code",
   "execution_count": 14,
   "metadata": {},
   "outputs": [],
   "source": [
    "np.random.seed(0)\n",
    "n_boot_samples = 500"
   ]
  },
  {
   "cell_type": "code",
   "execution_count": 15,
   "metadata": {},
   "outputs": [],
   "source": [
    "samples = get_bootstrap_samples(n_clicks_control_values, n_boot_samples)"
   ]
  },
  {
   "cell_type": "code",
   "execution_count": 16,
   "metadata": {},
   "outputs": [],
   "source": [
    "means = samples.mean(axis = 1)"
   ]
  },
  {
   "cell_type": "code",
   "execution_count": 17,
   "metadata": {},
   "outputs": [],
   "source": [
    "control_boot_chi_squared = []\n",
    "for i in np.arange(means.shape[0]):\n",
    "    control_boot_chi_squared.append(np.sum((samples[i] - means[i])**2))"
   ]
  },
  {
   "cell_type": "code",
   "execution_count": 18,
   "metadata": {},
   "outputs": [
    {
     "data": {
      "image/png": "[encoded data removed]",
      "text/plain": [
       "<Figure size 432x288 with 1 Axes>"
      ]
     },
     "metadata": {
      "needs_background": "light"
     },
     "output_type": "display_data"
    }
   ],
   "source": [
    "stats.probplot(means, dist=\"norm\", plot=pylab, rvalue = True)\n",
    "pylab.show()"
   ]
  },
  {
   "cell_type": "code",
   "execution_count": 19,
   "metadata": {},
   "outputs": [
    {
     "data": {
      "image/png": "[encoded data removed]",
      "text/plain": [
       "<Figure size 432x288 with 1 Axes>"
      ]
     },
     "metadata": {
      "needs_background": "light"
     },
     "output_type": "display_data"
    }
   ],
   "source": [
    "n = len(control_boot_chi_squared)\n",
    "scipy.stats.probplot(control_boot_chi_squared, dist=\"chi2\", \n",
    "                     sparams=(n-1), plot=plt, rvalue = True)\n",
    "pylab.show()"
   ]
  },
  {
   "cell_type": "markdown",
   "metadata": {},
   "source": [
    "### Тест Манна-Уитни\n",
    "Одним из возможных аналогов t-критерия, которым можно воспрользоваться, является тест Манна-Уитни. На достаточно обширном классе распределений он является асимптотически более эффективным, чем t-критерий, и при этом не требует параметрических предположений о характере распределения.\n",
    "\n",
    "Разделите выборку на две части, соответствующие control и exp группам. Преобразуйте данные к виду, чтобы каждому пользователю соответствовало суммарное значение его кликов. С помощью критерия Манна-Уитни проверьте гипотезу о равенстве средних. Что можно сказать о получившемся значении достигаемого уровня значимости?"
   ]
  },
  {
   "cell_type": "code",
   "execution_count": 20,
   "metadata": {},
   "outputs": [
    {
     "data": {
      "text/plain": [
       "MannwhitneyuResult(statistic=38940590204.0, pvalue=3.1236179006848145e-75)"
      ]
     },
     "execution_count": 20,
     "metadata": {},
     "output_type": "execute_result"
    }
   ],
   "source": [
    "stats.mannwhitneyu(df_exp.n_clicks, df_control.n_clicks)"
   ]
  },
  {
   "cell_type": "markdown",
   "metadata": {},
   "source": [
    "### У моего браузера больше кликов, чем у твоего\n",
    "Проверьте, для какого из браузеров наиболее сильно выражено отличие между количеством кликов в контрольной и экспериментальной группах.\n",
    "\n",
    "Для этого примените для каждого из срезов (по каждому из уникальных значений столбца browser) критерий Манна-Уитни между control и exp группами и сделайте поправку Холма-Бонферрони на множественную проверку с $\\alpha=0.05$.\n",
    "\n",
    "Какое заключение можно сделать исходя из полученных результатов ?\n",
    "\n",
    "В качестве ответа введите количество незначимых изменений с точки зрения результатов, полученных после введения коррекции."
   ]
  },
  {
   "cell_type": "code",
   "execution_count": 21,
   "metadata": {},
   "outputs": [],
   "source": [
    "df_bro = pd.DataFrame(df.browser.unique(), columns = ['browser'])\n",
    "df_bro = df_bro.set_index('browser')\n",
    "df_bro['p'] = 0.\n",
    "for bro in df_bro.index:    \n",
    "    df_control_bro = df_control[df_control.browser == bro]\n",
    "    df_exp_bro = df_exp[df_exp.browser == bro]\n",
    "    pvalue = stats.mannwhitneyu(df_control_bro.n_clicks, df_exp_bro.n_clicks).pvalue\n",
    "    df_bro.loc[[bro], ['p']] = pvalue"
   ]
  },
  {
   "cell_type": "code",
   "execution_count": 22,
   "metadata": {},
   "outputs": [],
   "source": [
    "reject, p_corrected, a1, a2 = multipletests(df_bro.p, \n",
    "                                            alpha = 0.05, \n",
    "                                            method = 'holm') \n",
    "\n",
    "df_bro['p_corrected'] = p_corrected\n",
    "df_bro['reject'] = reject"
   ]
  },
  {
   "cell_type": "code",
   "execution_count": 23,
   "metadata": {},
   "outputs": [
    {
     "data": {
      "text/html": [
       "<div>\n",
       "<style scoped>\n",
       "    .dataframe tbody tr th:only-of-type {\n",
       "        vertical-align: middle;\n",
       "    }\n",
       "\n",
       "    .dataframe tbody tr th {\n",
       "        vertical-align: top;\n",
       "    }\n",
       "\n",
       "    .dataframe thead th {\n",
       "        text-align: right;\n",
       "    }\n",
       "</style>\n",
       "<table border=\"1\" class=\"dataframe\">\n",
       "  <thead>\n",
       "    <tr style=\"text-align: right;\">\n",
       "      <th></th>\n",
       "      <th>p</th>\n",
       "      <th>p_corrected</th>\n",
       "      <th>reject</th>\n",
       "    </tr>\n",
       "    <tr>\n",
       "      <th>browser</th>\n",
       "      <th></th>\n",
       "      <th></th>\n",
       "      <th></th>\n",
       "    </tr>\n",
       "  </thead>\n",
       "  <tbody>\n",
       "    <tr>\n",
       "      <th>Browser #2</th>\n",
       "      <td>0.027244</td>\n",
       "      <td>0.136219</td>\n",
       "      <td>False</td>\n",
       "    </tr>\n",
       "    <tr>\n",
       "      <th>Browser #4</th>\n",
       "      <td>0.407606</td>\n",
       "      <td>0.815212</td>\n",
       "      <td>False</td>\n",
       "    </tr>\n",
       "    <tr>\n",
       "      <th>Browser #14</th>\n",
       "      <td>0.000000</td>\n",
       "      <td>0.000000</td>\n",
       "      <td>True</td>\n",
       "    </tr>\n",
       "    <tr>\n",
       "      <th>Browser #17</th>\n",
       "      <td>0.037401</td>\n",
       "      <td>0.149602</td>\n",
       "      <td>False</td>\n",
       "    </tr>\n",
       "    <tr>\n",
       "      <th>Browser #20</th>\n",
       "      <td>0.453667</td>\n",
       "      <td>0.815212</td>\n",
       "      <td>False</td>\n",
       "    </tr>\n",
       "    <tr>\n",
       "      <th>Browser #22</th>\n",
       "      <td>0.257406</td>\n",
       "      <td>0.772217</td>\n",
       "      <td>False</td>\n",
       "    </tr>\n",
       "  </tbody>\n",
       "</table>\n",
       "</div>"
      ],
      "text/plain": [
       "                    p  p_corrected  reject\n",
       "browser                                   \n",
       "Browser #2   0.027244     0.136219   False\n",
       "Browser #4   0.407606     0.815212   False\n",
       "Browser #14  0.000000     0.000000    True\n",
       "Browser #17  0.037401     0.149602   False\n",
       "Browser #20  0.453667     0.815212   False\n",
       "Browser #22  0.257406     0.772217   False"
      ]
     },
     "execution_count": 23,
     "metadata": {},
     "output_type": "execute_result"
    }
   ],
   "source": [
    "df_bro"
   ]
  },
  {
   "cell_type": "markdown",
   "metadata": {},
   "source": [
    "Статистически значимое отличие есть лишь у браузера 14 - для остальных браузеров медианы их выборок почти одинаковы."
   ]
  },
  {
   "cell_type": "markdown",
   "metadata": {},
   "source": [
    "### Нет кликов\n",
    "Для каждого браузера в каждой из двух групп (control и exp) посчитайте долю запросов, в которых пользователь не кликнул ни разу. Это можно сделать, поделив сумму значений n_nonclk_queries на сумму значений n_queries. Умножив это значение на 100, получим процент некликнутых запросов, который можно легче проинтерпретировать.\n",
    "\n",
    "Сходятся ли результаты проведенного Вами анализа с показателем процента некликнутых запросов ? Отметьте все верные утверждения. "
   ]
  },
  {
   "cell_type": "code",
   "execution_count": 24,
   "metadata": {},
   "outputs": [],
   "source": [
    "df_bro = pd.DataFrame(df.browser.unique(), columns = ['browser'])\n",
    "df_bro = df_bro.set_index('browser')\n",
    "df_bro['control_ratio'] = 0.\n",
    "df_bro['exp_ratio'] = 0.\n",
    "for bro in df_bro.index:    \n",
    "    df_control_bro = df_control[df_control.browser == bro]\n",
    "    df_exp_bro = df_exp[df_exp.browser == bro]\n",
    "    df_bro.loc[[bro], ['control_ratio']] = 100 * df_control_bro.n_nonclk_queries.sum() / df_control_bro.n_queries.sum()\n",
    "    df_bro.loc[[bro], ['exp_ratio']] = 100 * df_exp_bro.n_nonclk_queries.sum() / df_exp_bro.n_queries.sum()"
   ]
  },
  {
   "cell_type": "code",
   "execution_count": 25,
   "metadata": {},
   "outputs": [
    {
     "data": {
      "text/html": [
       "<div>\n",
       "<style scoped>\n",
       "    .dataframe tbody tr th:only-of-type {\n",
       "        vertical-align: middle;\n",
       "    }\n",
       "\n",
       "    .dataframe tbody tr th {\n",
       "        vertical-align: top;\n",
       "    }\n",
       "\n",
       "    .dataframe thead th {\n",
       "        text-align: right;\n",
       "    }\n",
       "</style>\n",
       "<table border=\"1\" class=\"dataframe\">\n",
       "  <thead>\n",
       "    <tr style=\"text-align: right;\">\n",
       "      <th></th>\n",
       "      <th>control_ratio</th>\n",
       "      <th>exp_ratio</th>\n",
       "    </tr>\n",
       "    <tr>\n",
       "      <th>browser</th>\n",
       "      <th></th>\n",
       "      <th></th>\n",
       "    </tr>\n",
       "  </thead>\n",
       "  <tbody>\n",
       "    <tr>\n",
       "      <th>Browser #2</th>\n",
       "      <td>45.962747</td>\n",
       "      <td>44.982747</td>\n",
       "    </tr>\n",
       "    <tr>\n",
       "      <th>Browser #4</th>\n",
       "      <td>46.970930</td>\n",
       "      <td>45.142942</td>\n",
       "    </tr>\n",
       "    <tr>\n",
       "      <th>Browser #14</th>\n",
       "      <td>57.590411</td>\n",
       "      <td>43.755617</td>\n",
       "    </tr>\n",
       "    <tr>\n",
       "      <th>Browser #17</th>\n",
       "      <td>36.299367</td>\n",
       "      <td>36.937413</td>\n",
       "    </tr>\n",
       "    <tr>\n",
       "      <th>Browser #20</th>\n",
       "      <td>40.540485</td>\n",
       "      <td>38.977376</td>\n",
       "    </tr>\n",
       "    <tr>\n",
       "      <th>Browser #22</th>\n",
       "      <td>40.593977</td>\n",
       "      <td>39.853947</td>\n",
       "    </tr>\n",
       "  </tbody>\n",
       "</table>\n",
       "</div>"
      ],
      "text/plain": [
       "             control_ratio  exp_ratio\n",
       "browser                              \n",
       "Browser #2       45.962747  44.982747\n",
       "Browser #4       46.970930  45.142942\n",
       "Browser #14      57.590411  43.755617\n",
       "Browser #17      36.299367  36.937413\n",
       "Browser #20      40.540485  38.977376\n",
       "Browser #22      40.593977  39.853947"
      ]
     },
     "execution_count": 25,
     "metadata": {},
     "output_type": "execute_result"
    }
   ],
   "source": [
    "df_bro"
   ]
  },
  {
   "cell_type": "markdown",
   "metadata": {},
   "source": [
    "Самое большое отличие между контрольной и экспериментальной группами наблюдается у браузера 14 - как и показал критеррий Манна-Уитни с поправкой Холма-Бонферрони."
   ]
  },
  {
   "cell_type": "markdown",
   "metadata": {},
   "source": [
    "## Вывод\n",
    "Был закреплен материал из лекций. Особенно тот факт, что t-критерий накладывает требование на распределение генеральной совокупности и необходимо проверять эти требования с помощью Q-Q графика.Таким образом, более универсальным является критерий Манна-Уитни, который не накладывает никаких требований."
   ]
  }
 ],
 "metadata": {
  "kernelspec": {
   "display_name": "Python 3",
   "language": "python",
   "name": "python3"
  },
  "language_info": {
   "codemirror_mode": {
    "name": "ipython",
    "version": 3
   },
   "file_extension": ".py",
   "mimetype": "text/x-python",
   "name": "python",
   "nbconvert_exporter": "python",
   "pygments_lexer": "ipython3",
   "version": "3.7.3"
  },
  "toc": {
   "base_numbering": 1,
   "nav_menu": {
    "height": "219px",
    "width": "264.967px"
   },
   "number_sections": true,
   "sideBar": true,
   "skip_h1_title": false,
   "title_cell": "Table of Contents",
   "title_sidebar": "Contents",
   "toc_cell": false,
   "toc_position": {
    "height": "calc(100% - 180px)",
    "left": "10px",
    "top": "150px",
    "width": "246.396px"
   },
   "toc_section_display": true,
   "toc_window_display": true
  }
 },
 "nbformat": 4,
 "nbformat_minor": 2
}
