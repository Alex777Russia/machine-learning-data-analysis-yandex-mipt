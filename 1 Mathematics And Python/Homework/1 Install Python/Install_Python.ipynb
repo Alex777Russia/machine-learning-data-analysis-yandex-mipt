{
 "cells": [
  {
   "cell_type": "markdown",
   "metadata": {},
   "source": [
    "# Install Python"
   ]
  },
  {
   "cell_type": "markdown",
   "metadata": {},
   "source": [
    "Ваше первое задание заключается в установке Python и библиотек. Как вы могли убедиться из демонстрационного видео, это очень просто и займет совсем немного времени. Тем не менее, важно выполнить задание своевременно, потому что эти инструменты понадобятся нам для дальнейшего прохождения курса. Убедитесь, что у вас не возникло проблем с установкой и использованием Python и потренируйтесь запускать простенькие команды – будет интересно!"
   ]
  },
  {
   "cell_type": "markdown",
   "metadata": {},
   "source": [
    "## Задание 1\n",
    "* Перейдите на сайт continuum.io по ссылке https://www.continuum.io/downloads\n",
    "* Выберите подходящую Вам операционную систему и перейдите в соответствующий раздел сайта.\n",
    "* Следуя инструкциям на сайте, установите Python 3.6."
   ]
  },
  {
   "cell_type": "markdown",
   "metadata": {},
   "source": [
    "## Задание 2\n",
    "* Запустите jupyter notebook. Команда запуска может несколько отличаться от команды запуска в инструкции из видео. Можно запустить с помощью Anaconda.\n",
    "* Создайте новый файл типа .ipynb\n",
    "* Создайте новую ячейку. В ней импортируйте библиотеку numpy (import numpy) и выведите на экран версию библиотеки (numpy.__version__)\n",
    "* Создайте новую ячейку. В ней импортируйте библиотеку scipy (import scipy) и выведите на экран версию библиотеки (scipy.__version__)\n",
    "* Создайте новую ячейку. В ней импортируйте библиотеку pandas (import pandas) и выведите на экран версию библиотеки (pandas.__version__)\n",
    "* Создайте новую ячейку. В ней импортируйте библиотеку matplotlib (import matplotlib) и выведите на экран версию библиотеки (matplotlib.__version__)\n",
    "* Сделайте скриншот №1, на котором будет хорошо видно результаты вашей работы, и загрузите его в форму."
   ]
  },
  {
   "cell_type": "code",
   "execution_count": 1,
   "metadata": {},
   "outputs": [
    {
     "data": {
      "text/plain": [
       "'1.16.2'"
      ]
     },
     "execution_count": 1,
     "metadata": {},
     "output_type": "execute_result"
    }
   ],
   "source": [
    "import numpy as np\n",
    "np.__version__"
   ]
  },
  {
   "cell_type": "code",
   "execution_count": 2,
   "metadata": {},
   "outputs": [
    {
     "data": {
      "text/plain": [
       "'1.2.1'"
      ]
     },
     "execution_count": 2,
     "metadata": {},
     "output_type": "execute_result"
    }
   ],
   "source": [
    "import scipy as sp\n",
    "sp.__version__"
   ]
  },
  {
   "cell_type": "code",
   "execution_count": 3,
   "metadata": {},
   "outputs": [
    {
     "data": {
      "text/plain": [
       "'0.24.2'"
      ]
     },
     "execution_count": 3,
     "metadata": {},
     "output_type": "execute_result"
    }
   ],
   "source": [
    "import pandas as pd\n",
    "pd.__version__"
   ]
  },
  {
   "cell_type": "code",
   "execution_count": 4,
   "metadata": {},
   "outputs": [
    {
     "data": {
      "text/plain": [
       "'3.0.3'"
      ]
     },
     "execution_count": 4,
     "metadata": {},
     "output_type": "execute_result"
    }
   ],
   "source": [
    "import matplotlib as plt\n",
    "plt.__version__"
   ]
  },
  {
   "cell_type": "markdown",
   "metadata": {},
   "source": [
    "## Задание 3\n",
    "* Запустите jupyter notebook. Команда запуска может несколько отличаться от команды запуска в инструкции из видео. Можно запустить с помощью Anaconda.\n",
    "* Создайте новый файл типа .ipynb\n",
    "* В файле создайте новую ячейку и измените её тип на Markdown\n",
    "* В первой строке созданной ячейки наберите название специализации “Машинное обучение и анализ данных” и сделайте эту строку заголовком уровня 1.\n",
    "* В следующей строке созданной ячейки наберите название нашего курса “Математика и Python” и сделайте строку заголовком уровня 2.\n",
    "* В третьей строке ячейки наберите текст \"Задание 1\".\n",
    "* Запустите выполнение ячейки.\n",
    "* Сделайте скриншот №2, на котором будет хорошо видно результаты вашей работы, и загрузите его в форму."
   ]
  },
  {
   "cell_type": "markdown",
   "metadata": {},
   "source": [
    "# Машинное обучение и анализ данных\n",
    "## Математика и Python\n",
    "Задание 1"
   ]
  }
 ],
 "metadata": {
  "kernelspec": {
   "display_name": "Python 3",
   "language": "python",
   "name": "python3"
  },
  "language_info": {
   "codemirror_mode": {
    "name": "ipython",
    "version": 3
   },
   "file_extension": ".py",
   "mimetype": "text/x-python",
   "name": "python",
   "nbconvert_exporter": "python",
   "pygments_lexer": "ipython3",
   "version": "3.7.3"
  },
  "toc": {
   "base_numbering": 1,
   "nav_menu": {},
   "number_sections": true,
   "sideBar": true,
   "skip_h1_title": false,
   "title_cell": "Table of Contents",
   "title_sidebar": "Contents",
   "toc_cell": false,
   "toc_position": {},
   "toc_section_display": true,
   "toc_window_display": true
  }
 },
 "nbformat": 4,
 "nbformat_minor": 2
}
